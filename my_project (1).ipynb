{
  "cells": [
    {
      "cell_type": "code",
      "execution_count": 4,
      "metadata": {
        "id": "_Hf1iAFoUQZ5"
      },
      "outputs": [],
      "source": [
        "from google.colab import drive"
      ]
    },
    {
      "cell_type": "code",
      "execution_count": 5,
      "metadata": {
        "colab": {
          "base_uri": "https://localhost:8080/"
        },
        "id": "Te2NQe5fUacS",
        "outputId": "95e71730-44f6-4d04-f919-1c644294addf"
      },
      "outputs": [
        {
          "output_type": "stream",
          "name": "stdout",
          "text": [
            "Drive already mounted at /content/drive; to attempt to forcibly remount, call drive.mount(\"/content/drive\", force_remount=True).\n"
          ]
        }
      ],
      "source": [
        "drive.mount('/content/drive')"
      ]
    },
    {
      "cell_type": "code",
      "execution_count": 6,
      "metadata": {
        "id": "IIlVqmHsUnQs"
      },
      "outputs": [],
      "source": [
        "\n",
        "!pip install ultralytics -q"
      ]
    },
    {
      "cell_type": "code",
      "execution_count": 7,
      "metadata": {
        "id": "cpv9un2dVE1u"
      },
      "outputs": [],
      "source": [
        "from ultralytics import YOLO"
      ]
    },
    {
      "cell_type": "code",
      "execution_count": 8,
      "metadata": {
        "colab": {
          "base_uri": "https://localhost:8080/"
        },
        "id": "JMglB2E0VIwE",
        "outputId": "bb19acbe-c20f-4064-b36b-c52855eb1ccb"
      },
      "outputs": [
        {
          "output_type": "stream",
          "name": "stdout",
          "text": [
            "PRO TIP 💡 Replace 'model=yolov5s.pt' with new 'model=yolov5su.pt'.\n",
            "YOLOv5 'u' models are trained with https://github.com/ultralytics/ultralytics and feature improved performance vs standard YOLOv5 models trained with https://github.com/ultralytics/yolov5.\n",
            "\n"
          ]
        }
      ],
      "source": [
        "model=YOLO(\"yolov5s.pt\")"
      ]
    },
    {
      "cell_type": "code",
      "execution_count": 9,
      "metadata": {
        "colab": {
          "base_uri": "https://localhost:8080/"
        },
        "id": "sQ4AGYHIXCqM",
        "outputId": "68e4b62e-046a-4317-e3a6-6f86bc22e0ac"
      },
      "outputs": [
        {
          "output_type": "stream",
          "name": "stdout",
          "text": [
            "Ultralytics YOLOv8.2.48 🚀 Python-3.10.12 torch-2.3.0+cu121 CUDA:0 (Tesla T4, 15102MiB)\n",
            "\u001b[34m\u001b[1mengine/trainer: \u001b[0mtask=detect, mode=train, model=yolov5s.pt, data=/content/data.yaml, epochs=20, time=None, patience=100, batch=16, imgsz=640, save=True, save_period=-1, cache=False, device=None, workers=8, project=None, name=train3, exist_ok=False, pretrained=True, optimizer=auto, verbose=True, seed=0, deterministic=True, single_cls=False, rect=False, cos_lr=False, close_mosaic=10, resume=False, amp=True, fraction=1.0, profile=False, freeze=None, multi_scale=False, overlap_mask=True, mask_ratio=4, dropout=0.0, val=True, split=val, save_json=False, save_hybrid=False, conf=None, iou=0.7, max_det=300, half=False, dnn=False, plots=True, source=None, vid_stride=1, stream_buffer=False, visualize=False, augment=False, agnostic_nms=False, classes=None, retina_masks=False, embed=None, show=False, save_frames=False, save_txt=False, save_conf=False, save_crop=False, show_labels=True, show_conf=True, show_boxes=True, line_width=None, format=torchscript, keras=False, optimize=False, int8=False, dynamic=False, simplify=False, opset=None, workspace=4, nms=False, lr0=0.01, lrf=0.01, momentum=0.937, weight_decay=0.0005, warmup_epochs=3.0, warmup_momentum=0.8, warmup_bias_lr=0.1, box=7.5, cls=0.5, dfl=1.5, pose=12.0, kobj=1.0, label_smoothing=0.0, nbs=64, hsv_h=0.015, hsv_s=0.7, hsv_v=0.4, degrees=0.0, translate=0.1, scale=0.5, shear=0.0, perspective=0.0, flipud=0.0, fliplr=0.5, bgr=0.0, mosaic=1.0, mixup=0.0, copy_paste=0.0, auto_augment=randaugment, erasing=0.4, crop_fraction=1.0, cfg=None, tracker=botsort.yaml, save_dir=runs/detect/train3\n",
            "Overriding model.yaml nc=80 with nc=2\n",
            "\n",
            "                   from  n    params  module                                       arguments                     \n",
            "  0                  -1  1      3520  ultralytics.nn.modules.conv.Conv             [3, 32, 6, 2, 2]              \n",
            "  1                  -1  1     18560  ultralytics.nn.modules.conv.Conv             [32, 64, 3, 2]                \n",
            "  2                  -1  1     18816  ultralytics.nn.modules.block.C3              [64, 64, 1]                   \n",
            "  3                  -1  1     73984  ultralytics.nn.modules.conv.Conv             [64, 128, 3, 2]               \n",
            "  4                  -1  2    115712  ultralytics.nn.modules.block.C3              [128, 128, 2]                 \n",
            "  5                  -1  1    295424  ultralytics.nn.modules.conv.Conv             [128, 256, 3, 2]              \n",
            "  6                  -1  3    625152  ultralytics.nn.modules.block.C3              [256, 256, 3]                 \n",
            "  7                  -1  1   1180672  ultralytics.nn.modules.conv.Conv             [256, 512, 3, 2]              \n",
            "  8                  -1  1   1182720  ultralytics.nn.modules.block.C3              [512, 512, 1]                 \n",
            "  9                  -1  1    656896  ultralytics.nn.modules.block.SPPF            [512, 512, 5]                 \n",
            " 10                  -1  1    131584  ultralytics.nn.modules.conv.Conv             [512, 256, 1, 1]              \n",
            " 11                  -1  1         0  torch.nn.modules.upsampling.Upsample         [None, 2, 'nearest']          \n",
            " 12             [-1, 6]  1         0  ultralytics.nn.modules.conv.Concat           [1]                           \n",
            " 13                  -1  1    361984  ultralytics.nn.modules.block.C3              [512, 256, 1, False]          \n",
            " 14                  -1  1     33024  ultralytics.nn.modules.conv.Conv             [256, 128, 1, 1]              \n",
            " 15                  -1  1         0  torch.nn.modules.upsampling.Upsample         [None, 2, 'nearest']          \n",
            " 16             [-1, 4]  1         0  ultralytics.nn.modules.conv.Concat           [1]                           \n",
            " 17                  -1  1     90880  ultralytics.nn.modules.block.C3              [256, 128, 1, False]          \n",
            " 18                  -1  1    147712  ultralytics.nn.modules.conv.Conv             [128, 128, 3, 2]              \n",
            " 19            [-1, 14]  1         0  ultralytics.nn.modules.conv.Concat           [1]                           \n",
            " 20                  -1  1    296448  ultralytics.nn.modules.block.C3              [256, 256, 1, False]          \n",
            " 21                  -1  1    590336  ultralytics.nn.modules.conv.Conv             [256, 256, 3, 2]              \n",
            " 22            [-1, 10]  1         0  ultralytics.nn.modules.conv.Concat           [1]                           \n",
            " 23                  -1  1   1182720  ultralytics.nn.modules.block.C3              [512, 512, 1, False]          \n",
            " 24        [17, 20, 23]  1   2116822  ultralytics.nn.modules.head.Detect           [2, [128, 256, 512]]          \n",
            "YOLOv5s summary: 262 layers, 9122966 parameters, 9122950 gradients, 24.0 GFLOPs\n",
            "\n",
            "Transferred 421/427 items from pretrained weights\n",
            "\u001b[34m\u001b[1mTensorBoard: \u001b[0mStart with 'tensorboard --logdir runs/detect/train3', view at http://localhost:6006/\n",
            "Freezing layer 'model.24.dfl.conv.weight'\n",
            "\u001b[34m\u001b[1mAMP: \u001b[0mrunning Automatic Mixed Precision (AMP) checks with YOLOv8n...\n"
          ]
        },
        {
          "output_type": "stream",
          "name": "stderr",
          "text": [
            "/usr/local/lib/python3.10/dist-packages/torch/nn/modules/conv.py:456: UserWarning: Plan failed with a cudnnException: CUDNN_BACKEND_EXECUTION_PLAN_DESCRIPTOR: cudnnFinalize Descriptor Failed cudnn_status: CUDNN_STATUS_NOT_SUPPORTED (Triggered internally at ../aten/src/ATen/native/cudnn/Conv_v8.cpp:919.)\n",
            "  return F.conv2d(input, weight, bias, self.stride,\n"
          ]
        },
        {
          "output_type": "stream",
          "name": "stdout",
          "text": [
            "WARNING ⚠️ NMS time limit 2.050s exceeded\n",
            "\u001b[34m\u001b[1mAMP: \u001b[0mchecks passed ✅\n"
          ]
        },
        {
          "output_type": "stream",
          "name": "stderr",
          "text": [
            "\u001b[34m\u001b[1mtrain: \u001b[0mScanning /content/drive/MyDrive/qas/train/labels.cache... 932 images, 2 backgrounds, 0 corrupt: 100%|██████████| 932/932 [00:00<?, ?it/s]\n"
          ]
        },
        {
          "output_type": "stream",
          "name": "stdout",
          "text": [
            "\u001b[34m\u001b[1malbumentations: \u001b[0mBlur(p=0.01, blur_limit=(3, 7)), MedianBlur(p=0.01, blur_limit=(3, 7)), ToGray(p=0.01), CLAHE(p=0.01, clip_limit=(1, 4.0), tile_grid_size=(8, 8))\n"
          ]
        },
        {
          "output_type": "stream",
          "name": "stderr",
          "text": [
            "/usr/lib/python3.10/multiprocessing/popen_fork.py:66: RuntimeWarning: os.fork() was called. os.fork() is incompatible with multithreaded code, and JAX is multithreaded, so this will likely lead to a deadlock.\n",
            "  self.pid = os.fork()\n",
            "\u001b[34m\u001b[1mval: \u001b[0mScanning /content/drive/MyDrive/qas/valid/labels.cache... 35 images, 0 backgrounds, 0 corrupt: 100%|██████████| 35/35 [00:00<?, ?it/s]\n"
          ]
        },
        {
          "output_type": "stream",
          "name": "stdout",
          "text": [
            "Plotting labels to runs/detect/train3/labels.jpg... \n",
            "\u001b[34m\u001b[1moptimizer:\u001b[0m 'optimizer=auto' found, ignoring 'lr0=0.01' and 'momentum=0.937' and determining best 'optimizer', 'lr0' and 'momentum' automatically... \n",
            "\u001b[34m\u001b[1moptimizer:\u001b[0m AdamW(lr=0.001667, momentum=0.9) with parameter groups 69 weight(decay=0.0), 76 weight(decay=0.0005), 75 bias(decay=0.0)\n",
            "\u001b[34m\u001b[1mTensorBoard: \u001b[0mmodel graph visualization added ✅\n",
            "Image sizes 640 train, 640 val\n",
            "Using 2 dataloader workers\n",
            "Logging results to \u001b[1mruns/detect/train3\u001b[0m\n",
            "Starting training for 20 epochs...\n",
            "\n",
            "      Epoch    GPU_mem   box_loss   cls_loss   dfl_loss  Instances       Size\n"
          ]
        },
        {
          "output_type": "stream",
          "name": "stderr",
          "text": [
            "\r  0%|          | 0/59 [00:00<?, ?it/s]/usr/local/lib/python3.10/dist-packages/torch/nn/modules/conv.py:456: UserWarning: Plan failed with a cudnnException: CUDNN_BACKEND_EXECUTION_PLAN_DESCRIPTOR: cudnnFinalize Descriptor Failed cudnn_status: CUDNN_STATUS_NOT_SUPPORTED (Triggered internally at ../aten/src/ATen/native/cudnn/Conv_v8.cpp:919.)\n",
            "  return F.conv2d(input, weight, bias, self.stride,\n",
            "       1/20      3.98G      1.598      1.931      1.557         17        640: 100%|██████████| 59/59 [00:33<00:00,  1.78it/s]\n",
            "                 Class     Images  Instances      Box(P          R      mAP50  mAP50-95): 100%|██████████| 2/2 [00:01<00:00,  1.23it/s]"
          ]
        },
        {
          "output_type": "stream",
          "name": "stdout",
          "text": [
            "                   all         35         73       0.54      0.641      0.589      0.267\n"
          ]
        },
        {
          "output_type": "stream",
          "name": "stderr",
          "text": [
            "\n"
          ]
        },
        {
          "output_type": "stream",
          "name": "stdout",
          "text": [
            "\n",
            "      Epoch    GPU_mem   box_loss   cls_loss   dfl_loss  Instances       Size\n"
          ]
        },
        {
          "output_type": "stream",
          "name": "stderr",
          "text": [
            "       2/20      3.95G      1.595      1.656      1.556         17        640: 100%|██████████| 59/59 [00:28<00:00,  2.06it/s]\n",
            "                 Class     Images  Instances      Box(P          R      mAP50  mAP50-95): 100%|██████████| 2/2 [00:01<00:00,  1.52it/s]"
          ]
        },
        {
          "output_type": "stream",
          "name": "stdout",
          "text": [
            "                   all         35         73      0.512      0.402      0.418      0.191\n"
          ]
        },
        {
          "output_type": "stream",
          "name": "stderr",
          "text": [
            "\n"
          ]
        },
        {
          "output_type": "stream",
          "name": "stdout",
          "text": [
            "\n",
            "      Epoch    GPU_mem   box_loss   cls_loss   dfl_loss  Instances       Size\n"
          ]
        },
        {
          "output_type": "stream",
          "name": "stderr",
          "text": [
            "       3/20      3.93G      1.646      1.677      1.592         21        640: 100%|██████████| 59/59 [00:31<00:00,  1.90it/s]\n",
            "                 Class     Images  Instances      Box(P          R      mAP50  mAP50-95): 100%|██████████| 2/2 [00:00<00:00,  2.69it/s]"
          ]
        },
        {
          "output_type": "stream",
          "name": "stdout",
          "text": [
            "                   all         35         73      0.379      0.417      0.303      0.108\n"
          ]
        },
        {
          "output_type": "stream",
          "name": "stderr",
          "text": [
            "\n"
          ]
        },
        {
          "output_type": "stream",
          "name": "stdout",
          "text": [
            "\n",
            "      Epoch    GPU_mem   box_loss   cls_loss   dfl_loss  Instances       Size\n"
          ]
        },
        {
          "output_type": "stream",
          "name": "stderr",
          "text": [
            "       4/20      4.01G      1.622      1.625      1.585         13        640: 100%|██████████| 59/59 [00:26<00:00,  2.26it/s]\n",
            "                 Class     Images  Instances      Box(P          R      mAP50  mAP50-95): 100%|██████████| 2/2 [00:00<00:00,  2.84it/s]"
          ]
        },
        {
          "output_type": "stream",
          "name": "stdout",
          "text": [
            "                   all         35         73      0.432       0.41      0.368      0.164\n"
          ]
        },
        {
          "output_type": "stream",
          "name": "stderr",
          "text": [
            "\n"
          ]
        },
        {
          "output_type": "stream",
          "name": "stdout",
          "text": [
            "\n",
            "      Epoch    GPU_mem   box_loss   cls_loss   dfl_loss  Instances       Size\n"
          ]
        },
        {
          "output_type": "stream",
          "name": "stderr",
          "text": [
            "       5/20      3.92G      1.604        1.6      1.573         18        640: 100%|██████████| 59/59 [00:29<00:00,  1.99it/s]\n",
            "                 Class     Images  Instances      Box(P          R      mAP50  mAP50-95): 100%|██████████| 2/2 [00:00<00:00,  2.31it/s]"
          ]
        },
        {
          "output_type": "stream",
          "name": "stdout",
          "text": [
            "                   all         35         73      0.453      0.599        0.5      0.209\n"
          ]
        },
        {
          "output_type": "stream",
          "name": "stderr",
          "text": [
            "\n"
          ]
        },
        {
          "output_type": "stream",
          "name": "stdout",
          "text": [
            "\n",
            "      Epoch    GPU_mem   box_loss   cls_loss   dfl_loss  Instances       Size\n"
          ]
        },
        {
          "output_type": "stream",
          "name": "stderr",
          "text": [
            "       6/20      3.98G      1.514      1.515      1.524         23        640: 100%|██████████| 59/59 [00:25<00:00,  2.29it/s]\n",
            "                 Class     Images  Instances      Box(P          R      mAP50  mAP50-95): 100%|██████████| 2/2 [00:00<00:00,  2.72it/s]"
          ]
        },
        {
          "output_type": "stream",
          "name": "stdout",
          "text": [
            "                   all         35         73      0.544      0.517      0.421       0.19\n"
          ]
        },
        {
          "output_type": "stream",
          "name": "stderr",
          "text": [
            "\n"
          ]
        },
        {
          "output_type": "stream",
          "name": "stdout",
          "text": [
            "\n",
            "      Epoch    GPU_mem   box_loss   cls_loss   dfl_loss  Instances       Size\n"
          ]
        },
        {
          "output_type": "stream",
          "name": "stderr",
          "text": [
            "       7/20      3.94G      1.493      1.413      1.491          9        640: 100%|██████████| 59/59 [00:29<00:00,  1.97it/s]\n",
            "                 Class     Images  Instances      Box(P          R      mAP50  mAP50-95): 100%|██████████| 2/2 [00:00<00:00,  2.67it/s]"
          ]
        },
        {
          "output_type": "stream",
          "name": "stdout",
          "text": [
            "                   all         35         73      0.562      0.619      0.549      0.245\n"
          ]
        },
        {
          "output_type": "stream",
          "name": "stderr",
          "text": [
            "\n"
          ]
        },
        {
          "output_type": "stream",
          "name": "stdout",
          "text": [
            "\n",
            "      Epoch    GPU_mem   box_loss   cls_loss   dfl_loss  Instances       Size\n"
          ]
        },
        {
          "output_type": "stream",
          "name": "stderr",
          "text": [
            "       8/20      3.96G      1.461      1.359       1.48         24        640: 100%|██████████| 59/59 [00:26<00:00,  2.24it/s]\n",
            "                 Class     Images  Instances      Box(P          R      mAP50  mAP50-95): 100%|██████████| 2/2 [00:00<00:00,  2.55it/s]"
          ]
        },
        {
          "output_type": "stream",
          "name": "stdout",
          "text": [
            "                   all         35         73      0.547      0.715      0.649      0.303\n"
          ]
        },
        {
          "output_type": "stream",
          "name": "stderr",
          "text": [
            "\n"
          ]
        },
        {
          "output_type": "stream",
          "name": "stdout",
          "text": [
            "\n",
            "      Epoch    GPU_mem   box_loss   cls_loss   dfl_loss  Instances       Size\n"
          ]
        },
        {
          "output_type": "stream",
          "name": "stderr",
          "text": [
            "       9/20      4.12G      1.432      1.296      1.446         17        640: 100%|██████████| 59/59 [00:28<00:00,  2.07it/s]\n",
            "                 Class     Images  Instances      Box(P          R      mAP50  mAP50-95): 100%|██████████| 2/2 [00:00<00:00,  2.41it/s]"
          ]
        },
        {
          "output_type": "stream",
          "name": "stdout",
          "text": [
            "                   all         35         73      0.817      0.593      0.676      0.327\n"
          ]
        },
        {
          "output_type": "stream",
          "name": "stderr",
          "text": [
            "\n"
          ]
        },
        {
          "output_type": "stream",
          "name": "stdout",
          "text": [
            "\n",
            "      Epoch    GPU_mem   box_loss   cls_loss   dfl_loss  Instances       Size\n"
          ]
        },
        {
          "output_type": "stream",
          "name": "stderr",
          "text": [
            "      10/20      3.96G      1.395      1.229       1.41         21        640: 100%|██████████| 59/59 [00:29<00:00,  1.98it/s]\n",
            "                 Class     Images  Instances      Box(P          R      mAP50  mAP50-95): 100%|██████████| 2/2 [00:00<00:00,  2.48it/s]"
          ]
        },
        {
          "output_type": "stream",
          "name": "stdout",
          "text": [
            "                   all         35         73      0.717       0.67      0.699      0.351\n"
          ]
        },
        {
          "output_type": "stream",
          "name": "stderr",
          "text": [
            "\n"
          ]
        },
        {
          "output_type": "stream",
          "name": "stdout",
          "text": [
            "Closing dataloader mosaic\n",
            "\u001b[34m\u001b[1malbumentations: \u001b[0mBlur(p=0.01, blur_limit=(3, 7)), MedianBlur(p=0.01, blur_limit=(3, 7)), ToGray(p=0.01), CLAHE(p=0.01, clip_limit=(1, 4.0), tile_grid_size=(8, 8))\n"
          ]
        },
        {
          "output_type": "stream",
          "name": "stderr",
          "text": [
            "/usr/lib/python3.10/multiprocessing/popen_fork.py:66: RuntimeWarning: os.fork() was called. os.fork() is incompatible with multithreaded code, and JAX is multithreaded, so this will likely lead to a deadlock.\n",
            "  self.pid = os.fork()\n",
            "/usr/lib/python3.10/multiprocessing/popen_fork.py:66: RuntimeWarning: os.fork() was called. os.fork() is incompatible with multithreaded code, and JAX is multithreaded, so this will likely lead to a deadlock.\n",
            "  self.pid = os.fork()\n"
          ]
        },
        {
          "output_type": "stream",
          "name": "stdout",
          "text": [
            "\n",
            "      Epoch    GPU_mem   box_loss   cls_loss   dfl_loss  Instances       Size\n"
          ]
        },
        {
          "output_type": "stream",
          "name": "stderr",
          "text": [
            "      11/20      4.44G       1.38      1.092      1.471          7        640: 100%|██████████| 59/59 [00:28<00:00,  2.07it/s]\n",
            "                 Class     Images  Instances      Box(P          R      mAP50  mAP50-95): 100%|██████████| 2/2 [00:00<00:00,  2.91it/s]"
          ]
        },
        {
          "output_type": "stream",
          "name": "stdout",
          "text": [
            "                   all         35         73      0.829      0.626      0.705      0.323\n"
          ]
        },
        {
          "output_type": "stream",
          "name": "stderr",
          "text": [
            "\n"
          ]
        },
        {
          "output_type": "stream",
          "name": "stdout",
          "text": [
            "\n",
            "      Epoch    GPU_mem   box_loss   cls_loss   dfl_loss  Instances       Size\n"
          ]
        },
        {
          "output_type": "stream",
          "name": "stderr",
          "text": [
            "      12/20      3.98G      1.315     0.9945      1.421          7        640: 100%|██████████| 59/59 [00:27<00:00,  2.14it/s]\n",
            "                 Class     Images  Instances      Box(P          R      mAP50  mAP50-95): 100%|██████████| 2/2 [00:01<00:00,  1.38it/s]"
          ]
        },
        {
          "output_type": "stream",
          "name": "stdout",
          "text": [
            "                   all         35         73      0.811      0.668      0.746       0.35\n"
          ]
        },
        {
          "output_type": "stream",
          "name": "stderr",
          "text": [
            "\n"
          ]
        },
        {
          "output_type": "stream",
          "name": "stdout",
          "text": [
            "\n",
            "      Epoch    GPU_mem   box_loss   cls_loss   dfl_loss  Instances       Size\n"
          ]
        },
        {
          "output_type": "stream",
          "name": "stderr",
          "text": [
            "      13/20      3.95G      1.279       0.93      1.384         11        640: 100%|██████████| 59/59 [00:24<00:00,  2.38it/s]\n",
            "                 Class     Images  Instances      Box(P          R      mAP50  mAP50-95): 100%|██████████| 2/2 [00:00<00:00,  2.95it/s]"
          ]
        },
        {
          "output_type": "stream",
          "name": "stdout",
          "text": [
            "                   all         35         73      0.758      0.734      0.777      0.383\n"
          ]
        },
        {
          "output_type": "stream",
          "name": "stderr",
          "text": [
            "\n"
          ]
        },
        {
          "output_type": "stream",
          "name": "stdout",
          "text": [
            "\n",
            "      Epoch    GPU_mem   box_loss   cls_loss   dfl_loss  Instances       Size\n"
          ]
        },
        {
          "output_type": "stream",
          "name": "stderr",
          "text": [
            "      14/20      3.92G      1.244     0.8644      1.357         12        640: 100%|██████████| 59/59 [00:26<00:00,  2.21it/s]\n",
            "                 Class     Images  Instances      Box(P          R      mAP50  mAP50-95): 100%|██████████| 2/2 [00:01<00:00,  1.61it/s]"
          ]
        },
        {
          "output_type": "stream",
          "name": "stdout",
          "text": [
            "                   all         35         73      0.887      0.703      0.796      0.408\n"
          ]
        },
        {
          "output_type": "stream",
          "name": "stderr",
          "text": [
            "\n"
          ]
        },
        {
          "output_type": "stream",
          "name": "stdout",
          "text": [
            "\n",
            "      Epoch    GPU_mem   box_loss   cls_loss   dfl_loss  Instances       Size\n"
          ]
        },
        {
          "output_type": "stream",
          "name": "stderr",
          "text": [
            "      15/20       3.9G      1.185     0.8197      1.331          9        640: 100%|██████████| 59/59 [00:24<00:00,  2.36it/s]\n",
            "                 Class     Images  Instances      Box(P          R      mAP50  mAP50-95): 100%|██████████| 2/2 [00:00<00:00,  3.15it/s]"
          ]
        },
        {
          "output_type": "stream",
          "name": "stdout",
          "text": [
            "                   all         35         73      0.808      0.737      0.765      0.406\n"
          ]
        },
        {
          "output_type": "stream",
          "name": "stderr",
          "text": [
            "\n"
          ]
        },
        {
          "output_type": "stream",
          "name": "stdout",
          "text": [
            "\n",
            "      Epoch    GPU_mem   box_loss   cls_loss   dfl_loss  Instances       Size\n"
          ]
        },
        {
          "output_type": "stream",
          "name": "stderr",
          "text": [
            "      16/20      3.92G      1.158     0.7599      1.313          5        640: 100%|██████████| 59/59 [00:25<00:00,  2.31it/s]\n",
            "                 Class     Images  Instances      Box(P          R      mAP50  mAP50-95): 100%|██████████| 2/2 [00:01<00:00,  1.52it/s]"
          ]
        },
        {
          "output_type": "stream",
          "name": "stdout",
          "text": [
            "                   all         35         73       0.78      0.749      0.805      0.408\n"
          ]
        },
        {
          "output_type": "stream",
          "name": "stderr",
          "text": [
            "\n"
          ]
        },
        {
          "output_type": "stream",
          "name": "stdout",
          "text": [
            "\n",
            "      Epoch    GPU_mem   box_loss   cls_loss   dfl_loss  Instances       Size\n"
          ]
        },
        {
          "output_type": "stream",
          "name": "stderr",
          "text": [
            "      17/20      3.96G      1.086     0.7152      1.267          6        640: 100%|██████████| 59/59 [00:28<00:00,  2.07it/s]\n",
            "                 Class     Images  Instances      Box(P          R      mAP50  mAP50-95): 100%|██████████| 2/2 [00:01<00:00,  1.60it/s]"
          ]
        },
        {
          "output_type": "stream",
          "name": "stdout",
          "text": [
            "                   all         35         73      0.765      0.791       0.81      0.447\n"
          ]
        },
        {
          "output_type": "stream",
          "name": "stderr",
          "text": [
            "\n"
          ]
        },
        {
          "output_type": "stream",
          "name": "stdout",
          "text": [
            "\n",
            "      Epoch    GPU_mem   box_loss   cls_loss   dfl_loss  Instances       Size\n"
          ]
        },
        {
          "output_type": "stream",
          "name": "stderr",
          "text": [
            "      18/20      3.94G      1.057     0.6832      1.255          7        640: 100%|██████████| 59/59 [00:27<00:00,  2.18it/s]\n",
            "                 Class     Images  Instances      Box(P          R      mAP50  mAP50-95): 100%|██████████| 2/2 [00:01<00:00,  1.57it/s]"
          ]
        },
        {
          "output_type": "stream",
          "name": "stdout",
          "text": [
            "                   all         35         73      0.872      0.779      0.834      0.466\n"
          ]
        },
        {
          "output_type": "stream",
          "name": "stderr",
          "text": [
            "\n"
          ]
        },
        {
          "output_type": "stream",
          "name": "stdout",
          "text": [
            "\n",
            "      Epoch    GPU_mem   box_loss   cls_loss   dfl_loss  Instances       Size\n"
          ]
        },
        {
          "output_type": "stream",
          "name": "stderr",
          "text": [
            "      19/20       3.9G      1.034     0.6338      1.218         21        640: 100%|██████████| 59/59 [00:25<00:00,  2.29it/s]\n",
            "                 Class     Images  Instances      Box(P          R      mAP50  mAP50-95): 100%|██████████| 2/2 [00:00<00:00,  2.89it/s]"
          ]
        },
        {
          "output_type": "stream",
          "name": "stdout",
          "text": [
            "                   all         35         73      0.859      0.786      0.827      0.452\n"
          ]
        },
        {
          "output_type": "stream",
          "name": "stderr",
          "text": [
            "\n"
          ]
        },
        {
          "output_type": "stream",
          "name": "stdout",
          "text": [
            "\n",
            "      Epoch    GPU_mem   box_loss   cls_loss   dfl_loss  Instances       Size\n"
          ]
        },
        {
          "output_type": "stream",
          "name": "stderr",
          "text": [
            "      20/20      3.95G     0.9892     0.6019      1.208          9        640: 100%|██████████| 59/59 [00:26<00:00,  2.20it/s]\n",
            "                 Class     Images  Instances      Box(P          R      mAP50  mAP50-95): 100%|██████████| 2/2 [00:01<00:00,  1.59it/s]"
          ]
        },
        {
          "output_type": "stream",
          "name": "stdout",
          "text": [
            "                   all         35         73      0.805      0.826      0.848      0.446\n"
          ]
        },
        {
          "output_type": "stream",
          "name": "stderr",
          "text": [
            "\n"
          ]
        },
        {
          "output_type": "stream",
          "name": "stdout",
          "text": [
            "\n",
            "20 epochs completed in 0.171 hours.\n",
            "Optimizer stripped from runs/detect/train3/weights/last.pt, 18.5MB\n",
            "Optimizer stripped from runs/detect/train3/weights/best.pt, 18.5MB\n",
            "\n",
            "Validating runs/detect/train3/weights/best.pt...\n",
            "Ultralytics YOLOv8.2.48 🚀 Python-3.10.12 torch-2.3.0+cu121 CUDA:0 (Tesla T4, 15102MiB)\n",
            "YOLOv5s summary (fused): 193 layers, 9112310 parameters, 0 gradients, 23.8 GFLOPs\n"
          ]
        },
        {
          "output_type": "stream",
          "name": "stderr",
          "text": [
            "/usr/local/lib/python3.10/dist-packages/torch/nn/modules/conv.py:456: UserWarning: Plan failed with a cudnnException: CUDNN_BACKEND_EXECUTION_PLAN_DESCRIPTOR: cudnnFinalize Descriptor Failed cudnn_status: CUDNN_STATUS_NOT_SUPPORTED (Triggered internally at ../aten/src/ATen/native/cudnn/Conv_v8.cpp:919.)\n",
            "  return F.conv2d(input, weight, bias, self.stride,\n",
            "                 Class     Images  Instances      Box(P          R      mAP50  mAP50-95): 100%|██████████| 2/2 [00:00<00:00,  3.33it/s]\n"
          ]
        },
        {
          "output_type": "stream",
          "name": "stdout",
          "text": [
            "                   all         35         73      0.872      0.779      0.834      0.464\n",
            "                friend         21         41      0.833      0.608       0.69      0.382\n",
            "                 qasim         32         32       0.91      0.951      0.977      0.546\n",
            "Speed: 0.3ms preprocess, 8.0ms inference, 0.0ms loss, 1.7ms postprocess per image\n",
            "Results saved to \u001b[1mruns/detect/train3\u001b[0m\n"
          ]
        },
        {
          "output_type": "execute_result",
          "data": {
            "text/plain": [
              "ultralytics.utils.metrics.DetMetrics object with attributes:\n",
              "\n",
              "ap_class_index: array([0, 1])\n",
              "box: ultralytics.utils.metrics.Metric object\n",
              "confusion_matrix: <ultralytics.utils.metrics.ConfusionMatrix object at 0x77fa963e1810>\n",
              "curves: ['Precision-Recall(B)', 'F1-Confidence(B)', 'Precision-Confidence(B)', 'Recall-Confidence(B)']\n",
              "curves_results: [[array([          0,    0.001001,    0.002002,    0.003003,    0.004004,    0.005005,    0.006006,    0.007007,    0.008008,    0.009009,     0.01001,    0.011011,    0.012012,    0.013013,    0.014014,    0.015015,    0.016016,    0.017017,    0.018018,    0.019019,     0.02002,    0.021021,    0.022022,    0.023023,\n",
              "          0.024024,    0.025025,    0.026026,    0.027027,    0.028028,    0.029029,     0.03003,    0.031031,    0.032032,    0.033033,    0.034034,    0.035035,    0.036036,    0.037037,    0.038038,    0.039039,     0.04004,    0.041041,    0.042042,    0.043043,    0.044044,    0.045045,    0.046046,    0.047047,\n",
              "          0.048048,    0.049049,     0.05005,    0.051051,    0.052052,    0.053053,    0.054054,    0.055055,    0.056056,    0.057057,    0.058058,    0.059059,     0.06006,    0.061061,    0.062062,    0.063063,    0.064064,    0.065065,    0.066066,    0.067067,    0.068068,    0.069069,     0.07007,    0.071071,\n",
              "          0.072072,    0.073073,    0.074074,    0.075075,    0.076076,    0.077077,    0.078078,    0.079079,     0.08008,    0.081081,    0.082082,    0.083083,    0.084084,    0.085085,    0.086086,    0.087087,    0.088088,    0.089089,     0.09009,    0.091091,    0.092092,    0.093093,    0.094094,    0.095095,\n",
              "          0.096096,    0.097097,    0.098098,    0.099099,      0.1001,      0.1011,      0.1021,      0.1031,      0.1041,     0.10511,     0.10611,     0.10711,     0.10811,     0.10911,     0.11011,     0.11111,     0.11211,     0.11311,     0.11411,     0.11512,     0.11612,     0.11712,     0.11812,     0.11912,\n",
              "           0.12012,     0.12112,     0.12212,     0.12312,     0.12412,     0.12513,     0.12613,     0.12713,     0.12813,     0.12913,     0.13013,     0.13113,     0.13213,     0.13313,     0.13413,     0.13514,     0.13614,     0.13714,     0.13814,     0.13914,     0.14014,     0.14114,     0.14214,     0.14314,\n",
              "           0.14414,     0.14515,     0.14615,     0.14715,     0.14815,     0.14915,     0.15015,     0.15115,     0.15215,     0.15315,     0.15415,     0.15516,     0.15616,     0.15716,     0.15816,     0.15916,     0.16016,     0.16116,     0.16216,     0.16316,     0.16416,     0.16517,     0.16617,     0.16717,\n",
              "           0.16817,     0.16917,     0.17017,     0.17117,     0.17217,     0.17317,     0.17417,     0.17518,     0.17618,     0.17718,     0.17818,     0.17918,     0.18018,     0.18118,     0.18218,     0.18318,     0.18418,     0.18519,     0.18619,     0.18719,     0.18819,     0.18919,     0.19019,     0.19119,\n",
              "           0.19219,     0.19319,     0.19419,      0.1952,      0.1962,      0.1972,      0.1982,      0.1992,      0.2002,      0.2012,      0.2022,      0.2032,      0.2042,     0.20521,     0.20621,     0.20721,     0.20821,     0.20921,     0.21021,     0.21121,     0.21221,     0.21321,     0.21421,     0.21522,\n",
              "           0.21622,     0.21722,     0.21822,     0.21922,     0.22022,     0.22122,     0.22222,     0.22322,     0.22422,     0.22523,     0.22623,     0.22723,     0.22823,     0.22923,     0.23023,     0.23123,     0.23223,     0.23323,     0.23423,     0.23524,     0.23624,     0.23724,     0.23824,     0.23924,\n",
              "           0.24024,     0.24124,     0.24224,     0.24324,     0.24424,     0.24525,     0.24625,     0.24725,     0.24825,     0.24925,     0.25025,     0.25125,     0.25225,     0.25325,     0.25425,     0.25526,     0.25626,     0.25726,     0.25826,     0.25926,     0.26026,     0.26126,     0.26226,     0.26326,\n",
              "           0.26426,     0.26527,     0.26627,     0.26727,     0.26827,     0.26927,     0.27027,     0.27127,     0.27227,     0.27327,     0.27427,     0.27528,     0.27628,     0.27728,     0.27828,     0.27928,     0.28028,     0.28128,     0.28228,     0.28328,     0.28428,     0.28529,     0.28629,     0.28729,\n",
              "           0.28829,     0.28929,     0.29029,     0.29129,     0.29229,     0.29329,     0.29429,      0.2953,      0.2963,      0.2973,      0.2983,      0.2993,      0.3003,      0.3013,      0.3023,      0.3033,      0.3043,     0.30531,     0.30631,     0.30731,     0.30831,     0.30931,     0.31031,     0.31131,\n",
              "           0.31231,     0.31331,     0.31431,     0.31532,     0.31632,     0.31732,     0.31832,     0.31932,     0.32032,     0.32132,     0.32232,     0.32332,     0.32432,     0.32533,     0.32633,     0.32733,     0.32833,     0.32933,     0.33033,     0.33133,     0.33233,     0.33333,     0.33433,     0.33534,\n",
              "           0.33634,     0.33734,     0.33834,     0.33934,     0.34034,     0.34134,     0.34234,     0.34334,     0.34434,     0.34535,     0.34635,     0.34735,     0.34835,     0.34935,     0.35035,     0.35135,     0.35235,     0.35335,     0.35435,     0.35536,     0.35636,     0.35736,     0.35836,     0.35936,\n",
              "           0.36036,     0.36136,     0.36236,     0.36336,     0.36436,     0.36537,     0.36637,     0.36737,     0.36837,     0.36937,     0.37037,     0.37137,     0.37237,     0.37337,     0.37437,     0.37538,     0.37638,     0.37738,     0.37838,     0.37938,     0.38038,     0.38138,     0.38238,     0.38338,\n",
              "           0.38438,     0.38539,     0.38639,     0.38739,     0.38839,     0.38939,     0.39039,     0.39139,     0.39239,     0.39339,     0.39439,      0.3954,      0.3964,      0.3974,      0.3984,      0.3994,      0.4004,      0.4014,      0.4024,      0.4034,      0.4044,     0.40541,     0.40641,     0.40741,\n",
              "           0.40841,     0.40941,     0.41041,     0.41141,     0.41241,     0.41341,     0.41441,     0.41542,     0.41642,     0.41742,     0.41842,     0.41942,     0.42042,     0.42142,     0.42242,     0.42342,     0.42442,     0.42543,     0.42643,     0.42743,     0.42843,     0.42943,     0.43043,     0.43143,\n",
              "           0.43243,     0.43343,     0.43443,     0.43544,     0.43644,     0.43744,     0.43844,     0.43944,     0.44044,     0.44144,     0.44244,     0.44344,     0.44444,     0.44545,     0.44645,     0.44745,     0.44845,     0.44945,     0.45045,     0.45145,     0.45245,     0.45345,     0.45445,     0.45546,\n",
              "           0.45646,     0.45746,     0.45846,     0.45946,     0.46046,     0.46146,     0.46246,     0.46346,     0.46446,     0.46547,     0.46647,     0.46747,     0.46847,     0.46947,     0.47047,     0.47147,     0.47247,     0.47347,     0.47447,     0.47548,     0.47648,     0.47748,     0.47848,     0.47948,\n",
              "           0.48048,     0.48148,     0.48248,     0.48348,     0.48448,     0.48549,     0.48649,     0.48749,     0.48849,     0.48949,     0.49049,     0.49149,     0.49249,     0.49349,     0.49449,      0.4955,      0.4965,      0.4975,      0.4985,      0.4995,      0.5005,      0.5015,      0.5025,      0.5035,\n",
              "            0.5045,     0.50551,     0.50651,     0.50751,     0.50851,     0.50951,     0.51051,     0.51151,     0.51251,     0.51351,     0.51451,     0.51552,     0.51652,     0.51752,     0.51852,     0.51952,     0.52052,     0.52152,     0.52252,     0.52352,     0.52452,     0.52553,     0.52653,     0.52753,\n",
              "           0.52853,     0.52953,     0.53053,     0.53153,     0.53253,     0.53353,     0.53453,     0.53554,     0.53654,     0.53754,     0.53854,     0.53954,     0.54054,     0.54154,     0.54254,     0.54354,     0.54454,     0.54555,     0.54655,     0.54755,     0.54855,     0.54955,     0.55055,     0.55155,\n",
              "           0.55255,     0.55355,     0.55455,     0.55556,     0.55656,     0.55756,     0.55856,     0.55956,     0.56056,     0.56156,     0.56256,     0.56356,     0.56456,     0.56557,     0.56657,     0.56757,     0.56857,     0.56957,     0.57057,     0.57157,     0.57257,     0.57357,     0.57457,     0.57558,\n",
              "           0.57658,     0.57758,     0.57858,     0.57958,     0.58058,     0.58158,     0.58258,     0.58358,     0.58458,     0.58559,     0.58659,     0.58759,     0.58859,     0.58959,     0.59059,     0.59159,     0.59259,     0.59359,     0.59459,      0.5956,      0.5966,      0.5976,      0.5986,      0.5996,\n",
              "            0.6006,      0.6016,      0.6026,      0.6036,      0.6046,     0.60561,     0.60661,     0.60761,     0.60861,     0.60961,     0.61061,     0.61161,     0.61261,     0.61361,     0.61461,     0.61562,     0.61662,     0.61762,     0.61862,     0.61962,     0.62062,     0.62162,     0.62262,     0.62362,\n",
              "           0.62462,     0.62563,     0.62663,     0.62763,     0.62863,     0.62963,     0.63063,     0.63163,     0.63263,     0.63363,     0.63463,     0.63564,     0.63664,     0.63764,     0.63864,     0.63964,     0.64064,     0.64164,     0.64264,     0.64364,     0.64464,     0.64565,     0.64665,     0.64765,\n",
              "           0.64865,     0.64965,     0.65065,     0.65165,     0.65265,     0.65365,     0.65465,     0.65566,     0.65666,     0.65766,     0.65866,     0.65966,     0.66066,     0.66166,     0.66266,     0.66366,     0.66466,     0.66567,     0.66667,     0.66767,     0.66867,     0.66967,     0.67067,     0.67167,\n",
              "           0.67267,     0.67367,     0.67467,     0.67568,     0.67668,     0.67768,     0.67868,     0.67968,     0.68068,     0.68168,     0.68268,     0.68368,     0.68468,     0.68569,     0.68669,     0.68769,     0.68869,     0.68969,     0.69069,     0.69169,     0.69269,     0.69369,     0.69469,      0.6957,\n",
              "            0.6967,      0.6977,      0.6987,      0.6997,      0.7007,      0.7017,      0.7027,      0.7037,      0.7047,     0.70571,     0.70671,     0.70771,     0.70871,     0.70971,     0.71071,     0.71171,     0.71271,     0.71371,     0.71471,     0.71572,     0.71672,     0.71772,     0.71872,     0.71972,\n",
              "           0.72072,     0.72172,     0.72272,     0.72372,     0.72472,     0.72573,     0.72673,     0.72773,     0.72873,     0.72973,     0.73073,     0.73173,     0.73273,     0.73373,     0.73473,     0.73574,     0.73674,     0.73774,     0.73874,     0.73974,     0.74074,     0.74174,     0.74274,     0.74374,\n",
              "           0.74474,     0.74575,     0.74675,     0.74775,     0.74875,     0.74975,     0.75075,     0.75175,     0.75275,     0.75375,     0.75475,     0.75576,     0.75676,     0.75776,     0.75876,     0.75976,     0.76076,     0.76176,     0.76276,     0.76376,     0.76476,     0.76577,     0.76677,     0.76777,\n",
              "           0.76877,     0.76977,     0.77077,     0.77177,     0.77277,     0.77377,     0.77477,     0.77578,     0.77678,     0.77778,     0.77878,     0.77978,     0.78078,     0.78178,     0.78278,     0.78378,     0.78478,     0.78579,     0.78679,     0.78779,     0.78879,     0.78979,     0.79079,     0.79179,\n",
              "           0.79279,     0.79379,     0.79479,      0.7958,      0.7968,      0.7978,      0.7988,      0.7998,      0.8008,      0.8018,      0.8028,      0.8038,      0.8048,     0.80581,     0.80681,     0.80781,     0.80881,     0.80981,     0.81081,     0.81181,     0.81281,     0.81381,     0.81481,     0.81582,\n",
              "           0.81682,     0.81782,     0.81882,     0.81982,     0.82082,     0.82182,     0.82282,     0.82382,     0.82482,     0.82583,     0.82683,     0.82783,     0.82883,     0.82983,     0.83083,     0.83183,     0.83283,     0.83383,     0.83483,     0.83584,     0.83684,     0.83784,     0.83884,     0.83984,\n",
              "           0.84084,     0.84184,     0.84284,     0.84384,     0.84484,     0.84585,     0.84685,     0.84785,     0.84885,     0.84985,     0.85085,     0.85185,     0.85285,     0.85385,     0.85485,     0.85586,     0.85686,     0.85786,     0.85886,     0.85986,     0.86086,     0.86186,     0.86286,     0.86386,\n",
              "           0.86486,     0.86587,     0.86687,     0.86787,     0.86887,     0.86987,     0.87087,     0.87187,     0.87287,     0.87387,     0.87487,     0.87588,     0.87688,     0.87788,     0.87888,     0.87988,     0.88088,     0.88188,     0.88288,     0.88388,     0.88488,     0.88589,     0.88689,     0.88789,\n",
              "           0.88889,     0.88989,     0.89089,     0.89189,     0.89289,     0.89389,     0.89489,      0.8959,      0.8969,      0.8979,      0.8989,      0.8999,      0.9009,      0.9019,      0.9029,      0.9039,      0.9049,     0.90591,     0.90691,     0.90791,     0.90891,     0.90991,     0.91091,     0.91191,\n",
              "           0.91291,     0.91391,     0.91491,     0.91592,     0.91692,     0.91792,     0.91892,     0.91992,     0.92092,     0.92192,     0.92292,     0.92392,     0.92492,     0.92593,     0.92693,     0.92793,     0.92893,     0.92993,     0.93093,     0.93193,     0.93293,     0.93393,     0.93493,     0.93594,\n",
              "           0.93694,     0.93794,     0.93894,     0.93994,     0.94094,     0.94194,     0.94294,     0.94394,     0.94494,     0.94595,     0.94695,     0.94795,     0.94895,     0.94995,     0.95095,     0.95195,     0.95295,     0.95395,     0.95495,     0.95596,     0.95696,     0.95796,     0.95896,     0.95996,\n",
              "           0.96096,     0.96196,     0.96296,     0.96396,     0.96496,     0.96597,     0.96697,     0.96797,     0.96897,     0.96997,     0.97097,     0.97197,     0.97297,     0.97397,     0.97497,     0.97598,     0.97698,     0.97798,     0.97898,     0.97998,     0.98098,     0.98198,     0.98298,     0.98398,\n",
              "           0.98498,     0.98599,     0.98699,     0.98799,     0.98899,     0.98999,     0.99099,     0.99199,     0.99299,     0.99399,     0.99499,       0.996,       0.997,       0.998,       0.999,           1]), array([[          1,           1,           1, ...,    0.002313,   0.0011565,           0],\n",
              "       [          1,           1,           1, ...,     0.74419,     0.74419,           0]]), 'Recall', 'Precision'], [array([          0,    0.001001,    0.002002,    0.003003,    0.004004,    0.005005,    0.006006,    0.007007,    0.008008,    0.009009,     0.01001,    0.011011,    0.012012,    0.013013,    0.014014,    0.015015,    0.016016,    0.017017,    0.018018,    0.019019,     0.02002,    0.021021,    0.022022,    0.023023,\n",
              "          0.024024,    0.025025,    0.026026,    0.027027,    0.028028,    0.029029,     0.03003,    0.031031,    0.032032,    0.033033,    0.034034,    0.035035,    0.036036,    0.037037,    0.038038,    0.039039,     0.04004,    0.041041,    0.042042,    0.043043,    0.044044,    0.045045,    0.046046,    0.047047,\n",
              "          0.048048,    0.049049,     0.05005,    0.051051,    0.052052,    0.053053,    0.054054,    0.055055,    0.056056,    0.057057,    0.058058,    0.059059,     0.06006,    0.061061,    0.062062,    0.063063,    0.064064,    0.065065,    0.066066,    0.067067,    0.068068,    0.069069,     0.07007,    0.071071,\n",
              "          0.072072,    0.073073,    0.074074,    0.075075,    0.076076,    0.077077,    0.078078,    0.079079,     0.08008,    0.081081,    0.082082,    0.083083,    0.084084,    0.085085,    0.086086,    0.087087,    0.088088,    0.089089,     0.09009,    0.091091,    0.092092,    0.093093,    0.094094,    0.095095,\n",
              "          0.096096,    0.097097,    0.098098,    0.099099,      0.1001,      0.1011,      0.1021,      0.1031,      0.1041,     0.10511,     0.10611,     0.10711,     0.10811,     0.10911,     0.11011,     0.11111,     0.11211,     0.11311,     0.11411,     0.11512,     0.11612,     0.11712,     0.11812,     0.11912,\n",
              "           0.12012,     0.12112,     0.12212,     0.12312,     0.12412,     0.12513,     0.12613,     0.12713,     0.12813,     0.12913,     0.13013,     0.13113,     0.13213,     0.13313,     0.13413,     0.13514,     0.13614,     0.13714,     0.13814,     0.13914,     0.14014,     0.14114,     0.14214,     0.14314,\n",
              "           0.14414,     0.14515,     0.14615,     0.14715,     0.14815,     0.14915,     0.15015,     0.15115,     0.15215,     0.15315,     0.15415,     0.15516,     0.15616,     0.15716,     0.15816,     0.15916,     0.16016,     0.16116,     0.16216,     0.16316,     0.16416,     0.16517,     0.16617,     0.16717,\n",
              "           0.16817,     0.16917,     0.17017,     0.17117,     0.17217,     0.17317,     0.17417,     0.17518,     0.17618,     0.17718,     0.17818,     0.17918,     0.18018,     0.18118,     0.18218,     0.18318,     0.18418,     0.18519,     0.18619,     0.18719,     0.18819,     0.18919,     0.19019,     0.19119,\n",
              "           0.19219,     0.19319,     0.19419,      0.1952,      0.1962,      0.1972,      0.1982,      0.1992,      0.2002,      0.2012,      0.2022,      0.2032,      0.2042,     0.20521,     0.20621,     0.20721,     0.20821,     0.20921,     0.21021,     0.21121,     0.21221,     0.21321,     0.21421,     0.21522,\n",
              "           0.21622,     0.21722,     0.21822,     0.21922,     0.22022,     0.22122,     0.22222,     0.22322,     0.22422,     0.22523,     0.22623,     0.22723,     0.22823,     0.22923,     0.23023,     0.23123,     0.23223,     0.23323,     0.23423,     0.23524,     0.23624,     0.23724,     0.23824,     0.23924,\n",
              "           0.24024,     0.24124,     0.24224,     0.24324,     0.24424,     0.24525,     0.24625,     0.24725,     0.24825,     0.24925,     0.25025,     0.25125,     0.25225,     0.25325,     0.25425,     0.25526,     0.25626,     0.25726,     0.25826,     0.25926,     0.26026,     0.26126,     0.26226,     0.26326,\n",
              "           0.26426,     0.26527,     0.26627,     0.26727,     0.26827,     0.26927,     0.27027,     0.27127,     0.27227,     0.27327,     0.27427,     0.27528,     0.27628,     0.27728,     0.27828,     0.27928,     0.28028,     0.28128,     0.28228,     0.28328,     0.28428,     0.28529,     0.28629,     0.28729,\n",
              "           0.28829,     0.28929,     0.29029,     0.29129,     0.29229,     0.29329,     0.29429,      0.2953,      0.2963,      0.2973,      0.2983,      0.2993,      0.3003,      0.3013,      0.3023,      0.3033,      0.3043,     0.30531,     0.30631,     0.30731,     0.30831,     0.30931,     0.31031,     0.31131,\n",
              "           0.31231,     0.31331,     0.31431,     0.31532,     0.31632,     0.31732,     0.31832,     0.31932,     0.32032,     0.32132,     0.32232,     0.32332,     0.32432,     0.32533,     0.32633,     0.32733,     0.32833,     0.32933,     0.33033,     0.33133,     0.33233,     0.33333,     0.33433,     0.33534,\n",
              "           0.33634,     0.33734,     0.33834,     0.33934,     0.34034,     0.34134,     0.34234,     0.34334,     0.34434,     0.34535,     0.34635,     0.34735,     0.34835,     0.34935,     0.35035,     0.35135,     0.35235,     0.35335,     0.35435,     0.35536,     0.35636,     0.35736,     0.35836,     0.35936,\n",
              "           0.36036,     0.36136,     0.36236,     0.36336,     0.36436,     0.36537,     0.36637,     0.36737,     0.36837,     0.36937,     0.37037,     0.37137,     0.37237,     0.37337,     0.37437,     0.37538,     0.37638,     0.37738,     0.37838,     0.37938,     0.38038,     0.38138,     0.38238,     0.38338,\n",
              "           0.38438,     0.38539,     0.38639,     0.38739,     0.38839,     0.38939,     0.39039,     0.39139,     0.39239,     0.39339,     0.39439,      0.3954,      0.3964,      0.3974,      0.3984,      0.3994,      0.4004,      0.4014,      0.4024,      0.4034,      0.4044,     0.40541,     0.40641,     0.40741,\n",
              "           0.40841,     0.40941,     0.41041,     0.41141,     0.41241,     0.41341,     0.41441,     0.41542,     0.41642,     0.41742,     0.41842,     0.41942,     0.42042,     0.42142,     0.42242,     0.42342,     0.42442,     0.42543,     0.42643,     0.42743,     0.42843,     0.42943,     0.43043,     0.43143,\n",
              "           0.43243,     0.43343,     0.43443,     0.43544,     0.43644,     0.43744,     0.43844,     0.43944,     0.44044,     0.44144,     0.44244,     0.44344,     0.44444,     0.44545,     0.44645,     0.44745,     0.44845,     0.44945,     0.45045,     0.45145,     0.45245,     0.45345,     0.45445,     0.45546,\n",
              "           0.45646,     0.45746,     0.45846,     0.45946,     0.46046,     0.46146,     0.46246,     0.46346,     0.46446,     0.46547,     0.46647,     0.46747,     0.46847,     0.46947,     0.47047,     0.47147,     0.47247,     0.47347,     0.47447,     0.47548,     0.47648,     0.47748,     0.47848,     0.47948,\n",
              "           0.48048,     0.48148,     0.48248,     0.48348,     0.48448,     0.48549,     0.48649,     0.48749,     0.48849,     0.48949,     0.49049,     0.49149,     0.49249,     0.49349,     0.49449,      0.4955,      0.4965,      0.4975,      0.4985,      0.4995,      0.5005,      0.5015,      0.5025,      0.5035,\n",
              "            0.5045,     0.50551,     0.50651,     0.50751,     0.50851,     0.50951,     0.51051,     0.51151,     0.51251,     0.51351,     0.51451,     0.51552,     0.51652,     0.51752,     0.51852,     0.51952,     0.52052,     0.52152,     0.52252,     0.52352,     0.52452,     0.52553,     0.52653,     0.52753,\n",
              "           0.52853,     0.52953,     0.53053,     0.53153,     0.53253,     0.53353,     0.53453,     0.53554,     0.53654,     0.53754,     0.53854,     0.53954,     0.54054,     0.54154,     0.54254,     0.54354,     0.54454,     0.54555,     0.54655,     0.54755,     0.54855,     0.54955,     0.55055,     0.55155,\n",
              "           0.55255,     0.55355,     0.55455,     0.55556,     0.55656,     0.55756,     0.55856,     0.55956,     0.56056,     0.56156,     0.56256,     0.56356,     0.56456,     0.56557,     0.56657,     0.56757,     0.56857,     0.56957,     0.57057,     0.57157,     0.57257,     0.57357,     0.57457,     0.57558,\n",
              "           0.57658,     0.57758,     0.57858,     0.57958,     0.58058,     0.58158,     0.58258,     0.58358,     0.58458,     0.58559,     0.58659,     0.58759,     0.58859,     0.58959,     0.59059,     0.59159,     0.59259,     0.59359,     0.59459,      0.5956,      0.5966,      0.5976,      0.5986,      0.5996,\n",
              "            0.6006,      0.6016,      0.6026,      0.6036,      0.6046,     0.60561,     0.60661,     0.60761,     0.60861,     0.60961,     0.61061,     0.61161,     0.61261,     0.61361,     0.61461,     0.61562,     0.61662,     0.61762,     0.61862,     0.61962,     0.62062,     0.62162,     0.62262,     0.62362,\n",
              "           0.62462,     0.62563,     0.62663,     0.62763,     0.62863,     0.62963,     0.63063,     0.63163,     0.63263,     0.63363,     0.63463,     0.63564,     0.63664,     0.63764,     0.63864,     0.63964,     0.64064,     0.64164,     0.64264,     0.64364,     0.64464,     0.64565,     0.64665,     0.64765,\n",
              "           0.64865,     0.64965,     0.65065,     0.65165,     0.65265,     0.65365,     0.65465,     0.65566,     0.65666,     0.65766,     0.65866,     0.65966,     0.66066,     0.66166,     0.66266,     0.66366,     0.66466,     0.66567,     0.66667,     0.66767,     0.66867,     0.66967,     0.67067,     0.67167,\n",
              "           0.67267,     0.67367,     0.67467,     0.67568,     0.67668,     0.67768,     0.67868,     0.67968,     0.68068,     0.68168,     0.68268,     0.68368,     0.68468,     0.68569,     0.68669,     0.68769,     0.68869,     0.68969,     0.69069,     0.69169,     0.69269,     0.69369,     0.69469,      0.6957,\n",
              "            0.6967,      0.6977,      0.6987,      0.6997,      0.7007,      0.7017,      0.7027,      0.7037,      0.7047,     0.70571,     0.70671,     0.70771,     0.70871,     0.70971,     0.71071,     0.71171,     0.71271,     0.71371,     0.71471,     0.71572,     0.71672,     0.71772,     0.71872,     0.71972,\n",
              "           0.72072,     0.72172,     0.72272,     0.72372,     0.72472,     0.72573,     0.72673,     0.72773,     0.72873,     0.72973,     0.73073,     0.73173,     0.73273,     0.73373,     0.73473,     0.73574,     0.73674,     0.73774,     0.73874,     0.73974,     0.74074,     0.74174,     0.74274,     0.74374,\n",
              "           0.74474,     0.74575,     0.74675,     0.74775,     0.74875,     0.74975,     0.75075,     0.75175,     0.75275,     0.75375,     0.75475,     0.75576,     0.75676,     0.75776,     0.75876,     0.75976,     0.76076,     0.76176,     0.76276,     0.76376,     0.76476,     0.76577,     0.76677,     0.76777,\n",
              "           0.76877,     0.76977,     0.77077,     0.77177,     0.77277,     0.77377,     0.77477,     0.77578,     0.77678,     0.77778,     0.77878,     0.77978,     0.78078,     0.78178,     0.78278,     0.78378,     0.78478,     0.78579,     0.78679,     0.78779,     0.78879,     0.78979,     0.79079,     0.79179,\n",
              "           0.79279,     0.79379,     0.79479,      0.7958,      0.7968,      0.7978,      0.7988,      0.7998,      0.8008,      0.8018,      0.8028,      0.8038,      0.8048,     0.80581,     0.80681,     0.80781,     0.80881,     0.80981,     0.81081,     0.81181,     0.81281,     0.81381,     0.81481,     0.81582,\n",
              "           0.81682,     0.81782,     0.81882,     0.81982,     0.82082,     0.82182,     0.82282,     0.82382,     0.82482,     0.82583,     0.82683,     0.82783,     0.82883,     0.82983,     0.83083,     0.83183,     0.83283,     0.83383,     0.83483,     0.83584,     0.83684,     0.83784,     0.83884,     0.83984,\n",
              "           0.84084,     0.84184,     0.84284,     0.84384,     0.84484,     0.84585,     0.84685,     0.84785,     0.84885,     0.84985,     0.85085,     0.85185,     0.85285,     0.85385,     0.85485,     0.85586,     0.85686,     0.85786,     0.85886,     0.85986,     0.86086,     0.86186,     0.86286,     0.86386,\n",
              "           0.86486,     0.86587,     0.86687,     0.86787,     0.86887,     0.86987,     0.87087,     0.87187,     0.87287,     0.87387,     0.87487,     0.87588,     0.87688,     0.87788,     0.87888,     0.87988,     0.88088,     0.88188,     0.88288,     0.88388,     0.88488,     0.88589,     0.88689,     0.88789,\n",
              "           0.88889,     0.88989,     0.89089,     0.89189,     0.89289,     0.89389,     0.89489,      0.8959,      0.8969,      0.8979,      0.8989,      0.8999,      0.9009,      0.9019,      0.9029,      0.9039,      0.9049,     0.90591,     0.90691,     0.90791,     0.90891,     0.90991,     0.91091,     0.91191,\n",
              "           0.91291,     0.91391,     0.91491,     0.91592,     0.91692,     0.91792,     0.91892,     0.91992,     0.92092,     0.92192,     0.92292,     0.92392,     0.92492,     0.92593,     0.92693,     0.92793,     0.92893,     0.92993,     0.93093,     0.93193,     0.93293,     0.93393,     0.93493,     0.93594,\n",
              "           0.93694,     0.93794,     0.93894,     0.93994,     0.94094,     0.94194,     0.94294,     0.94394,     0.94494,     0.94595,     0.94695,     0.94795,     0.94895,     0.94995,     0.95095,     0.95195,     0.95295,     0.95395,     0.95495,     0.95596,     0.95696,     0.95796,     0.95896,     0.95996,\n",
              "           0.96096,     0.96196,     0.96296,     0.96396,     0.96496,     0.96597,     0.96697,     0.96797,     0.96897,     0.96997,     0.97097,     0.97197,     0.97297,     0.97397,     0.97497,     0.97598,     0.97698,     0.97798,     0.97898,     0.97998,     0.98098,     0.98198,     0.98298,     0.98398,\n",
              "           0.98498,     0.98599,     0.98699,     0.98799,     0.98899,     0.98999,     0.99099,     0.99199,     0.99299,     0.99399,     0.99499,       0.996,       0.997,       0.998,       0.999,           1]), array([[    0.10641,     0.10641,     0.13927, ...,           0,           0,           0],\n",
              "       [    0.36571,     0.36571,     0.44789, ...,           0,           0,           0]]), 'Confidence', 'F1'], [array([          0,    0.001001,    0.002002,    0.003003,    0.004004,    0.005005,    0.006006,    0.007007,    0.008008,    0.009009,     0.01001,    0.011011,    0.012012,    0.013013,    0.014014,    0.015015,    0.016016,    0.017017,    0.018018,    0.019019,     0.02002,    0.021021,    0.022022,    0.023023,\n",
              "          0.024024,    0.025025,    0.026026,    0.027027,    0.028028,    0.029029,     0.03003,    0.031031,    0.032032,    0.033033,    0.034034,    0.035035,    0.036036,    0.037037,    0.038038,    0.039039,     0.04004,    0.041041,    0.042042,    0.043043,    0.044044,    0.045045,    0.046046,    0.047047,\n",
              "          0.048048,    0.049049,     0.05005,    0.051051,    0.052052,    0.053053,    0.054054,    0.055055,    0.056056,    0.057057,    0.058058,    0.059059,     0.06006,    0.061061,    0.062062,    0.063063,    0.064064,    0.065065,    0.066066,    0.067067,    0.068068,    0.069069,     0.07007,    0.071071,\n",
              "          0.072072,    0.073073,    0.074074,    0.075075,    0.076076,    0.077077,    0.078078,    0.079079,     0.08008,    0.081081,    0.082082,    0.083083,    0.084084,    0.085085,    0.086086,    0.087087,    0.088088,    0.089089,     0.09009,    0.091091,    0.092092,    0.093093,    0.094094,    0.095095,\n",
              "          0.096096,    0.097097,    0.098098,    0.099099,      0.1001,      0.1011,      0.1021,      0.1031,      0.1041,     0.10511,     0.10611,     0.10711,     0.10811,     0.10911,     0.11011,     0.11111,     0.11211,     0.11311,     0.11411,     0.11512,     0.11612,     0.11712,     0.11812,     0.11912,\n",
              "           0.12012,     0.12112,     0.12212,     0.12312,     0.12412,     0.12513,     0.12613,     0.12713,     0.12813,     0.12913,     0.13013,     0.13113,     0.13213,     0.13313,     0.13413,     0.13514,     0.13614,     0.13714,     0.13814,     0.13914,     0.14014,     0.14114,     0.14214,     0.14314,\n",
              "           0.14414,     0.14515,     0.14615,     0.14715,     0.14815,     0.14915,     0.15015,     0.15115,     0.15215,     0.15315,     0.15415,     0.15516,     0.15616,     0.15716,     0.15816,     0.15916,     0.16016,     0.16116,     0.16216,     0.16316,     0.16416,     0.16517,     0.16617,     0.16717,\n",
              "           0.16817,     0.16917,     0.17017,     0.17117,     0.17217,     0.17317,     0.17417,     0.17518,     0.17618,     0.17718,     0.17818,     0.17918,     0.18018,     0.18118,     0.18218,     0.18318,     0.18418,     0.18519,     0.18619,     0.18719,     0.18819,     0.18919,     0.19019,     0.19119,\n",
              "           0.19219,     0.19319,     0.19419,      0.1952,      0.1962,      0.1972,      0.1982,      0.1992,      0.2002,      0.2012,      0.2022,      0.2032,      0.2042,     0.20521,     0.20621,     0.20721,     0.20821,     0.20921,     0.21021,     0.21121,     0.21221,     0.21321,     0.21421,     0.21522,\n",
              "           0.21622,     0.21722,     0.21822,     0.21922,     0.22022,     0.22122,     0.22222,     0.22322,     0.22422,     0.22523,     0.22623,     0.22723,     0.22823,     0.22923,     0.23023,     0.23123,     0.23223,     0.23323,     0.23423,     0.23524,     0.23624,     0.23724,     0.23824,     0.23924,\n",
              "           0.24024,     0.24124,     0.24224,     0.24324,     0.24424,     0.24525,     0.24625,     0.24725,     0.24825,     0.24925,     0.25025,     0.25125,     0.25225,     0.25325,     0.25425,     0.25526,     0.25626,     0.25726,     0.25826,     0.25926,     0.26026,     0.26126,     0.26226,     0.26326,\n",
              "           0.26426,     0.26527,     0.26627,     0.26727,     0.26827,     0.26927,     0.27027,     0.27127,     0.27227,     0.27327,     0.27427,     0.27528,     0.27628,     0.27728,     0.27828,     0.27928,     0.28028,     0.28128,     0.28228,     0.28328,     0.28428,     0.28529,     0.28629,     0.28729,\n",
              "           0.28829,     0.28929,     0.29029,     0.29129,     0.29229,     0.29329,     0.29429,      0.2953,      0.2963,      0.2973,      0.2983,      0.2993,      0.3003,      0.3013,      0.3023,      0.3033,      0.3043,     0.30531,     0.30631,     0.30731,     0.30831,     0.30931,     0.31031,     0.31131,\n",
              "           0.31231,     0.31331,     0.31431,     0.31532,     0.31632,     0.31732,     0.31832,     0.31932,     0.32032,     0.32132,     0.32232,     0.32332,     0.32432,     0.32533,     0.32633,     0.32733,     0.32833,     0.32933,     0.33033,     0.33133,     0.33233,     0.33333,     0.33433,     0.33534,\n",
              "           0.33634,     0.33734,     0.33834,     0.33934,     0.34034,     0.34134,     0.34234,     0.34334,     0.34434,     0.34535,     0.34635,     0.34735,     0.34835,     0.34935,     0.35035,     0.35135,     0.35235,     0.35335,     0.35435,     0.35536,     0.35636,     0.35736,     0.35836,     0.35936,\n",
              "           0.36036,     0.36136,     0.36236,     0.36336,     0.36436,     0.36537,     0.36637,     0.36737,     0.36837,     0.36937,     0.37037,     0.37137,     0.37237,     0.37337,     0.37437,     0.37538,     0.37638,     0.37738,     0.37838,     0.37938,     0.38038,     0.38138,     0.38238,     0.38338,\n",
              "           0.38438,     0.38539,     0.38639,     0.38739,     0.38839,     0.38939,     0.39039,     0.39139,     0.39239,     0.39339,     0.39439,      0.3954,      0.3964,      0.3974,      0.3984,      0.3994,      0.4004,      0.4014,      0.4024,      0.4034,      0.4044,     0.40541,     0.40641,     0.40741,\n",
              "           0.40841,     0.40941,     0.41041,     0.41141,     0.41241,     0.41341,     0.41441,     0.41542,     0.41642,     0.41742,     0.41842,     0.41942,     0.42042,     0.42142,     0.42242,     0.42342,     0.42442,     0.42543,     0.42643,     0.42743,     0.42843,     0.42943,     0.43043,     0.43143,\n",
              "           0.43243,     0.43343,     0.43443,     0.43544,     0.43644,     0.43744,     0.43844,     0.43944,     0.44044,     0.44144,     0.44244,     0.44344,     0.44444,     0.44545,     0.44645,     0.44745,     0.44845,     0.44945,     0.45045,     0.45145,     0.45245,     0.45345,     0.45445,     0.45546,\n",
              "           0.45646,     0.45746,     0.45846,     0.45946,     0.46046,     0.46146,     0.46246,     0.46346,     0.46446,     0.46547,     0.46647,     0.46747,     0.46847,     0.46947,     0.47047,     0.47147,     0.47247,     0.47347,     0.47447,     0.47548,     0.47648,     0.47748,     0.47848,     0.47948,\n",
              "           0.48048,     0.48148,     0.48248,     0.48348,     0.48448,     0.48549,     0.48649,     0.48749,     0.48849,     0.48949,     0.49049,     0.49149,     0.49249,     0.49349,     0.49449,      0.4955,      0.4965,      0.4975,      0.4985,      0.4995,      0.5005,      0.5015,      0.5025,      0.5035,\n",
              "            0.5045,     0.50551,     0.50651,     0.50751,     0.50851,     0.50951,     0.51051,     0.51151,     0.51251,     0.51351,     0.51451,     0.51552,     0.51652,     0.51752,     0.51852,     0.51952,     0.52052,     0.52152,     0.52252,     0.52352,     0.52452,     0.52553,     0.52653,     0.52753,\n",
              "           0.52853,     0.52953,     0.53053,     0.53153,     0.53253,     0.53353,     0.53453,     0.53554,     0.53654,     0.53754,     0.53854,     0.53954,     0.54054,     0.54154,     0.54254,     0.54354,     0.54454,     0.54555,     0.54655,     0.54755,     0.54855,     0.54955,     0.55055,     0.55155,\n",
              "           0.55255,     0.55355,     0.55455,     0.55556,     0.55656,     0.55756,     0.55856,     0.55956,     0.56056,     0.56156,     0.56256,     0.56356,     0.56456,     0.56557,     0.56657,     0.56757,     0.56857,     0.56957,     0.57057,     0.57157,     0.57257,     0.57357,     0.57457,     0.57558,\n",
              "           0.57658,     0.57758,     0.57858,     0.57958,     0.58058,     0.58158,     0.58258,     0.58358,     0.58458,     0.58559,     0.58659,     0.58759,     0.58859,     0.58959,     0.59059,     0.59159,     0.59259,     0.59359,     0.59459,      0.5956,      0.5966,      0.5976,      0.5986,      0.5996,\n",
              "            0.6006,      0.6016,      0.6026,      0.6036,      0.6046,     0.60561,     0.60661,     0.60761,     0.60861,     0.60961,     0.61061,     0.61161,     0.61261,     0.61361,     0.61461,     0.61562,     0.61662,     0.61762,     0.61862,     0.61962,     0.62062,     0.62162,     0.62262,     0.62362,\n",
              "           0.62462,     0.62563,     0.62663,     0.62763,     0.62863,     0.62963,     0.63063,     0.63163,     0.63263,     0.63363,     0.63463,     0.63564,     0.63664,     0.63764,     0.63864,     0.63964,     0.64064,     0.64164,     0.64264,     0.64364,     0.64464,     0.64565,     0.64665,     0.64765,\n",
              "           0.64865,     0.64965,     0.65065,     0.65165,     0.65265,     0.65365,     0.65465,     0.65566,     0.65666,     0.65766,     0.65866,     0.65966,     0.66066,     0.66166,     0.66266,     0.66366,     0.66466,     0.66567,     0.66667,     0.66767,     0.66867,     0.66967,     0.67067,     0.67167,\n",
              "           0.67267,     0.67367,     0.67467,     0.67568,     0.67668,     0.67768,     0.67868,     0.67968,     0.68068,     0.68168,     0.68268,     0.68368,     0.68468,     0.68569,     0.68669,     0.68769,     0.68869,     0.68969,     0.69069,     0.69169,     0.69269,     0.69369,     0.69469,      0.6957,\n",
              "            0.6967,      0.6977,      0.6987,      0.6997,      0.7007,      0.7017,      0.7027,      0.7037,      0.7047,     0.70571,     0.70671,     0.70771,     0.70871,     0.70971,     0.71071,     0.71171,     0.71271,     0.71371,     0.71471,     0.71572,     0.71672,     0.71772,     0.71872,     0.71972,\n",
              "           0.72072,     0.72172,     0.72272,     0.72372,     0.72472,     0.72573,     0.72673,     0.72773,     0.72873,     0.72973,     0.73073,     0.73173,     0.73273,     0.73373,     0.73473,     0.73574,     0.73674,     0.73774,     0.73874,     0.73974,     0.74074,     0.74174,     0.74274,     0.74374,\n",
              "           0.74474,     0.74575,     0.74675,     0.74775,     0.74875,     0.74975,     0.75075,     0.75175,     0.75275,     0.75375,     0.75475,     0.75576,     0.75676,     0.75776,     0.75876,     0.75976,     0.76076,     0.76176,     0.76276,     0.76376,     0.76476,     0.76577,     0.76677,     0.76777,\n",
              "           0.76877,     0.76977,     0.77077,     0.77177,     0.77277,     0.77377,     0.77477,     0.77578,     0.77678,     0.77778,     0.77878,     0.77978,     0.78078,     0.78178,     0.78278,     0.78378,     0.78478,     0.78579,     0.78679,     0.78779,     0.78879,     0.78979,     0.79079,     0.79179,\n",
              "           0.79279,     0.79379,     0.79479,      0.7958,      0.7968,      0.7978,      0.7988,      0.7998,      0.8008,      0.8018,      0.8028,      0.8038,      0.8048,     0.80581,     0.80681,     0.80781,     0.80881,     0.80981,     0.81081,     0.81181,     0.81281,     0.81381,     0.81481,     0.81582,\n",
              "           0.81682,     0.81782,     0.81882,     0.81982,     0.82082,     0.82182,     0.82282,     0.82382,     0.82482,     0.82583,     0.82683,     0.82783,     0.82883,     0.82983,     0.83083,     0.83183,     0.83283,     0.83383,     0.83483,     0.83584,     0.83684,     0.83784,     0.83884,     0.83984,\n",
              "           0.84084,     0.84184,     0.84284,     0.84384,     0.84484,     0.84585,     0.84685,     0.84785,     0.84885,     0.84985,     0.85085,     0.85185,     0.85285,     0.85385,     0.85485,     0.85586,     0.85686,     0.85786,     0.85886,     0.85986,     0.86086,     0.86186,     0.86286,     0.86386,\n",
              "           0.86486,     0.86587,     0.86687,     0.86787,     0.86887,     0.86987,     0.87087,     0.87187,     0.87287,     0.87387,     0.87487,     0.87588,     0.87688,     0.87788,     0.87888,     0.87988,     0.88088,     0.88188,     0.88288,     0.88388,     0.88488,     0.88589,     0.88689,     0.88789,\n",
              "           0.88889,     0.88989,     0.89089,     0.89189,     0.89289,     0.89389,     0.89489,      0.8959,      0.8969,      0.8979,      0.8989,      0.8999,      0.9009,      0.9019,      0.9029,      0.9039,      0.9049,     0.90591,     0.90691,     0.90791,     0.90891,     0.90991,     0.91091,     0.91191,\n",
              "           0.91291,     0.91391,     0.91491,     0.91592,     0.91692,     0.91792,     0.91892,     0.91992,     0.92092,     0.92192,     0.92292,     0.92392,     0.92492,     0.92593,     0.92693,     0.92793,     0.92893,     0.92993,     0.93093,     0.93193,     0.93293,     0.93393,     0.93493,     0.93594,\n",
              "           0.93694,     0.93794,     0.93894,     0.93994,     0.94094,     0.94194,     0.94294,     0.94394,     0.94494,     0.94595,     0.94695,     0.94795,     0.94895,     0.94995,     0.95095,     0.95195,     0.95295,     0.95395,     0.95495,     0.95596,     0.95696,     0.95796,     0.95896,     0.95996,\n",
              "           0.96096,     0.96196,     0.96296,     0.96396,     0.96496,     0.96597,     0.96697,     0.96797,     0.96897,     0.96997,     0.97097,     0.97197,     0.97297,     0.97397,     0.97497,     0.97598,     0.97698,     0.97798,     0.97898,     0.97998,     0.98098,     0.98198,     0.98298,     0.98398,\n",
              "           0.98498,     0.98599,     0.98699,     0.98799,     0.98899,     0.98999,     0.99099,     0.99199,     0.99299,     0.99399,     0.99499,       0.996,       0.997,       0.998,       0.999,           1]), array([[   0.056358,    0.056358,    0.075138, ...,           1,           1,           1],\n",
              "       [    0.22378,     0.22378,     0.28857, ...,           1,           1,           1]]), 'Confidence', 'Precision'], [array([          0,    0.001001,    0.002002,    0.003003,    0.004004,    0.005005,    0.006006,    0.007007,    0.008008,    0.009009,     0.01001,    0.011011,    0.012012,    0.013013,    0.014014,    0.015015,    0.016016,    0.017017,    0.018018,    0.019019,     0.02002,    0.021021,    0.022022,    0.023023,\n",
              "          0.024024,    0.025025,    0.026026,    0.027027,    0.028028,    0.029029,     0.03003,    0.031031,    0.032032,    0.033033,    0.034034,    0.035035,    0.036036,    0.037037,    0.038038,    0.039039,     0.04004,    0.041041,    0.042042,    0.043043,    0.044044,    0.045045,    0.046046,    0.047047,\n",
              "          0.048048,    0.049049,     0.05005,    0.051051,    0.052052,    0.053053,    0.054054,    0.055055,    0.056056,    0.057057,    0.058058,    0.059059,     0.06006,    0.061061,    0.062062,    0.063063,    0.064064,    0.065065,    0.066066,    0.067067,    0.068068,    0.069069,     0.07007,    0.071071,\n",
              "          0.072072,    0.073073,    0.074074,    0.075075,    0.076076,    0.077077,    0.078078,    0.079079,     0.08008,    0.081081,    0.082082,    0.083083,    0.084084,    0.085085,    0.086086,    0.087087,    0.088088,    0.089089,     0.09009,    0.091091,    0.092092,    0.093093,    0.094094,    0.095095,\n",
              "          0.096096,    0.097097,    0.098098,    0.099099,      0.1001,      0.1011,      0.1021,      0.1031,      0.1041,     0.10511,     0.10611,     0.10711,     0.10811,     0.10911,     0.11011,     0.11111,     0.11211,     0.11311,     0.11411,     0.11512,     0.11612,     0.11712,     0.11812,     0.11912,\n",
              "           0.12012,     0.12112,     0.12212,     0.12312,     0.12412,     0.12513,     0.12613,     0.12713,     0.12813,     0.12913,     0.13013,     0.13113,     0.13213,     0.13313,     0.13413,     0.13514,     0.13614,     0.13714,     0.13814,     0.13914,     0.14014,     0.14114,     0.14214,     0.14314,\n",
              "           0.14414,     0.14515,     0.14615,     0.14715,     0.14815,     0.14915,     0.15015,     0.15115,     0.15215,     0.15315,     0.15415,     0.15516,     0.15616,     0.15716,     0.15816,     0.15916,     0.16016,     0.16116,     0.16216,     0.16316,     0.16416,     0.16517,     0.16617,     0.16717,\n",
              "           0.16817,     0.16917,     0.17017,     0.17117,     0.17217,     0.17317,     0.17417,     0.17518,     0.17618,     0.17718,     0.17818,     0.17918,     0.18018,     0.18118,     0.18218,     0.18318,     0.18418,     0.18519,     0.18619,     0.18719,     0.18819,     0.18919,     0.19019,     0.19119,\n",
              "           0.19219,     0.19319,     0.19419,      0.1952,      0.1962,      0.1972,      0.1982,      0.1992,      0.2002,      0.2012,      0.2022,      0.2032,      0.2042,     0.20521,     0.20621,     0.20721,     0.20821,     0.20921,     0.21021,     0.21121,     0.21221,     0.21321,     0.21421,     0.21522,\n",
              "           0.21622,     0.21722,     0.21822,     0.21922,     0.22022,     0.22122,     0.22222,     0.22322,     0.22422,     0.22523,     0.22623,     0.22723,     0.22823,     0.22923,     0.23023,     0.23123,     0.23223,     0.23323,     0.23423,     0.23524,     0.23624,     0.23724,     0.23824,     0.23924,\n",
              "           0.24024,     0.24124,     0.24224,     0.24324,     0.24424,     0.24525,     0.24625,     0.24725,     0.24825,     0.24925,     0.25025,     0.25125,     0.25225,     0.25325,     0.25425,     0.25526,     0.25626,     0.25726,     0.25826,     0.25926,     0.26026,     0.26126,     0.26226,     0.26326,\n",
              "           0.26426,     0.26527,     0.26627,     0.26727,     0.26827,     0.26927,     0.27027,     0.27127,     0.27227,     0.27327,     0.27427,     0.27528,     0.27628,     0.27728,     0.27828,     0.27928,     0.28028,     0.28128,     0.28228,     0.28328,     0.28428,     0.28529,     0.28629,     0.28729,\n",
              "           0.28829,     0.28929,     0.29029,     0.29129,     0.29229,     0.29329,     0.29429,      0.2953,      0.2963,      0.2973,      0.2983,      0.2993,      0.3003,      0.3013,      0.3023,      0.3033,      0.3043,     0.30531,     0.30631,     0.30731,     0.30831,     0.30931,     0.31031,     0.31131,\n",
              "           0.31231,     0.31331,     0.31431,     0.31532,     0.31632,     0.31732,     0.31832,     0.31932,     0.32032,     0.32132,     0.32232,     0.32332,     0.32432,     0.32533,     0.32633,     0.32733,     0.32833,     0.32933,     0.33033,     0.33133,     0.33233,     0.33333,     0.33433,     0.33534,\n",
              "           0.33634,     0.33734,     0.33834,     0.33934,     0.34034,     0.34134,     0.34234,     0.34334,     0.34434,     0.34535,     0.34635,     0.34735,     0.34835,     0.34935,     0.35035,     0.35135,     0.35235,     0.35335,     0.35435,     0.35536,     0.35636,     0.35736,     0.35836,     0.35936,\n",
              "           0.36036,     0.36136,     0.36236,     0.36336,     0.36436,     0.36537,     0.36637,     0.36737,     0.36837,     0.36937,     0.37037,     0.37137,     0.37237,     0.37337,     0.37437,     0.37538,     0.37638,     0.37738,     0.37838,     0.37938,     0.38038,     0.38138,     0.38238,     0.38338,\n",
              "           0.38438,     0.38539,     0.38639,     0.38739,     0.38839,     0.38939,     0.39039,     0.39139,     0.39239,     0.39339,     0.39439,      0.3954,      0.3964,      0.3974,      0.3984,      0.3994,      0.4004,      0.4014,      0.4024,      0.4034,      0.4044,     0.40541,     0.40641,     0.40741,\n",
              "           0.40841,     0.40941,     0.41041,     0.41141,     0.41241,     0.41341,     0.41441,     0.41542,     0.41642,     0.41742,     0.41842,     0.41942,     0.42042,     0.42142,     0.42242,     0.42342,     0.42442,     0.42543,     0.42643,     0.42743,     0.42843,     0.42943,     0.43043,     0.43143,\n",
              "           0.43243,     0.43343,     0.43443,     0.43544,     0.43644,     0.43744,     0.43844,     0.43944,     0.44044,     0.44144,     0.44244,     0.44344,     0.44444,     0.44545,     0.44645,     0.44745,     0.44845,     0.44945,     0.45045,     0.45145,     0.45245,     0.45345,     0.45445,     0.45546,\n",
              "           0.45646,     0.45746,     0.45846,     0.45946,     0.46046,     0.46146,     0.46246,     0.46346,     0.46446,     0.46547,     0.46647,     0.46747,     0.46847,     0.46947,     0.47047,     0.47147,     0.47247,     0.47347,     0.47447,     0.47548,     0.47648,     0.47748,     0.47848,     0.47948,\n",
              "           0.48048,     0.48148,     0.48248,     0.48348,     0.48448,     0.48549,     0.48649,     0.48749,     0.48849,     0.48949,     0.49049,     0.49149,     0.49249,     0.49349,     0.49449,      0.4955,      0.4965,      0.4975,      0.4985,      0.4995,      0.5005,      0.5015,      0.5025,      0.5035,\n",
              "            0.5045,     0.50551,     0.50651,     0.50751,     0.50851,     0.50951,     0.51051,     0.51151,     0.51251,     0.51351,     0.51451,     0.51552,     0.51652,     0.51752,     0.51852,     0.51952,     0.52052,     0.52152,     0.52252,     0.52352,     0.52452,     0.52553,     0.52653,     0.52753,\n",
              "           0.52853,     0.52953,     0.53053,     0.53153,     0.53253,     0.53353,     0.53453,     0.53554,     0.53654,     0.53754,     0.53854,     0.53954,     0.54054,     0.54154,     0.54254,     0.54354,     0.54454,     0.54555,     0.54655,     0.54755,     0.54855,     0.54955,     0.55055,     0.55155,\n",
              "           0.55255,     0.55355,     0.55455,     0.55556,     0.55656,     0.55756,     0.55856,     0.55956,     0.56056,     0.56156,     0.56256,     0.56356,     0.56456,     0.56557,     0.56657,     0.56757,     0.56857,     0.56957,     0.57057,     0.57157,     0.57257,     0.57357,     0.57457,     0.57558,\n",
              "           0.57658,     0.57758,     0.57858,     0.57958,     0.58058,     0.58158,     0.58258,     0.58358,     0.58458,     0.58559,     0.58659,     0.58759,     0.58859,     0.58959,     0.59059,     0.59159,     0.59259,     0.59359,     0.59459,      0.5956,      0.5966,      0.5976,      0.5986,      0.5996,\n",
              "            0.6006,      0.6016,      0.6026,      0.6036,      0.6046,     0.60561,     0.60661,     0.60761,     0.60861,     0.60961,     0.61061,     0.61161,     0.61261,     0.61361,     0.61461,     0.61562,     0.61662,     0.61762,     0.61862,     0.61962,     0.62062,     0.62162,     0.62262,     0.62362,\n",
              "           0.62462,     0.62563,     0.62663,     0.62763,     0.62863,     0.62963,     0.63063,     0.63163,     0.63263,     0.63363,     0.63463,     0.63564,     0.63664,     0.63764,     0.63864,     0.63964,     0.64064,     0.64164,     0.64264,     0.64364,     0.64464,     0.64565,     0.64665,     0.64765,\n",
              "           0.64865,     0.64965,     0.65065,     0.65165,     0.65265,     0.65365,     0.65465,     0.65566,     0.65666,     0.65766,     0.65866,     0.65966,     0.66066,     0.66166,     0.66266,     0.66366,     0.66466,     0.66567,     0.66667,     0.66767,     0.66867,     0.66967,     0.67067,     0.67167,\n",
              "           0.67267,     0.67367,     0.67467,     0.67568,     0.67668,     0.67768,     0.67868,     0.67968,     0.68068,     0.68168,     0.68268,     0.68368,     0.68468,     0.68569,     0.68669,     0.68769,     0.68869,     0.68969,     0.69069,     0.69169,     0.69269,     0.69369,     0.69469,      0.6957,\n",
              "            0.6967,      0.6977,      0.6987,      0.6997,      0.7007,      0.7017,      0.7027,      0.7037,      0.7047,     0.70571,     0.70671,     0.70771,     0.70871,     0.70971,     0.71071,     0.71171,     0.71271,     0.71371,     0.71471,     0.71572,     0.71672,     0.71772,     0.71872,     0.71972,\n",
              "           0.72072,     0.72172,     0.72272,     0.72372,     0.72472,     0.72573,     0.72673,     0.72773,     0.72873,     0.72973,     0.73073,     0.73173,     0.73273,     0.73373,     0.73473,     0.73574,     0.73674,     0.73774,     0.73874,     0.73974,     0.74074,     0.74174,     0.74274,     0.74374,\n",
              "           0.74474,     0.74575,     0.74675,     0.74775,     0.74875,     0.74975,     0.75075,     0.75175,     0.75275,     0.75375,     0.75475,     0.75576,     0.75676,     0.75776,     0.75876,     0.75976,     0.76076,     0.76176,     0.76276,     0.76376,     0.76476,     0.76577,     0.76677,     0.76777,\n",
              "           0.76877,     0.76977,     0.77077,     0.77177,     0.77277,     0.77377,     0.77477,     0.77578,     0.77678,     0.77778,     0.77878,     0.77978,     0.78078,     0.78178,     0.78278,     0.78378,     0.78478,     0.78579,     0.78679,     0.78779,     0.78879,     0.78979,     0.79079,     0.79179,\n",
              "           0.79279,     0.79379,     0.79479,      0.7958,      0.7968,      0.7978,      0.7988,      0.7998,      0.8008,      0.8018,      0.8028,      0.8038,      0.8048,     0.80581,     0.80681,     0.80781,     0.80881,     0.80981,     0.81081,     0.81181,     0.81281,     0.81381,     0.81481,     0.81582,\n",
              "           0.81682,     0.81782,     0.81882,     0.81982,     0.82082,     0.82182,     0.82282,     0.82382,     0.82482,     0.82583,     0.82683,     0.82783,     0.82883,     0.82983,     0.83083,     0.83183,     0.83283,     0.83383,     0.83483,     0.83584,     0.83684,     0.83784,     0.83884,     0.83984,\n",
              "           0.84084,     0.84184,     0.84284,     0.84384,     0.84484,     0.84585,     0.84685,     0.84785,     0.84885,     0.84985,     0.85085,     0.85185,     0.85285,     0.85385,     0.85485,     0.85586,     0.85686,     0.85786,     0.85886,     0.85986,     0.86086,     0.86186,     0.86286,     0.86386,\n",
              "           0.86486,     0.86587,     0.86687,     0.86787,     0.86887,     0.86987,     0.87087,     0.87187,     0.87287,     0.87387,     0.87487,     0.87588,     0.87688,     0.87788,     0.87888,     0.87988,     0.88088,     0.88188,     0.88288,     0.88388,     0.88488,     0.88589,     0.88689,     0.88789,\n",
              "           0.88889,     0.88989,     0.89089,     0.89189,     0.89289,     0.89389,     0.89489,      0.8959,      0.8969,      0.8979,      0.8989,      0.8999,      0.9009,      0.9019,      0.9029,      0.9039,      0.9049,     0.90591,     0.90691,     0.90791,     0.90891,     0.90991,     0.91091,     0.91191,\n",
              "           0.91291,     0.91391,     0.91491,     0.91592,     0.91692,     0.91792,     0.91892,     0.91992,     0.92092,     0.92192,     0.92292,     0.92392,     0.92492,     0.92593,     0.92693,     0.92793,     0.92893,     0.92993,     0.93093,     0.93193,     0.93293,     0.93393,     0.93493,     0.93594,\n",
              "           0.93694,     0.93794,     0.93894,     0.93994,     0.94094,     0.94194,     0.94294,     0.94394,     0.94494,     0.94595,     0.94695,     0.94795,     0.94895,     0.94995,     0.95095,     0.95195,     0.95295,     0.95395,     0.95495,     0.95596,     0.95696,     0.95796,     0.95896,     0.95996,\n",
              "           0.96096,     0.96196,     0.96296,     0.96396,     0.96496,     0.96597,     0.96697,     0.96797,     0.96897,     0.96997,     0.97097,     0.97197,     0.97297,     0.97397,     0.97497,     0.97598,     0.97698,     0.97798,     0.97898,     0.97998,     0.98098,     0.98198,     0.98298,     0.98398,\n",
              "           0.98498,     0.98599,     0.98699,     0.98799,     0.98899,     0.98999,     0.99099,     0.99199,     0.99299,     0.99399,     0.99499,       0.996,       0.997,       0.998,       0.999,           1]), array([[    0.95122,     0.95122,     0.95122, ...,           0,           0,           0],\n",
              "       [          1,           1,           1, ...,           0,           0,           0]]), 'Confidence', 'Recall']]\n",
              "fitness: 0.5010226986524597\n",
              "keys: ['metrics/precision(B)', 'metrics/recall(B)', 'metrics/mAP50(B)', 'metrics/mAP50-95(B)']\n",
              "maps: array([    0.38237,     0.54571])\n",
              "names: {0: 'friend', 1: 'qasim'}\n",
              "plot: True\n",
              "results_dict: {'metrics/precision(B)': 0.8715462567468804, 'metrics/recall(B)': 0.7793931651874852, 'metrics/mAP50(B)': 0.8338639277017529, 'metrics/mAP50-95(B)': 0.4640403398692049, 'fitness': 0.5010226986524597}\n",
              "save_dir: PosixPath('runs/detect/train3')\n",
              "speed: {'preprocess': 0.2750124250139509, 'inference': 8.02164077758789, 'loss': 0.0010558537074497768, 'postprocess': 1.7481531415666853}\n",
              "task: 'detect'"
            ]
          },
          "metadata": {},
          "execution_count": 9
        }
      ],
      "source": [
        "from pathlib import Path\n",
        "import yaml\n",
        "\n",
        "# Define dataset configuration\n",
        "data_config = {\n",
        "    'train': '/content/drive/MyDrive/qas/train',\n",
        "    'val': '/content/drive/MyDrive/qas/valid',\n",
        "    'nc': 2,  # Number of classes\n",
        "    'names': ['friend', 'qasim'],  # List of class names\n",
        "}\n",
        "\n",
        "# Write configuration to YAML file\n",
        "data_path = Path('/content/data.yaml')\n",
        "with open(data_path, 'w') as f:\n",
        "    yaml.dump(data_config, f)\n",
        "\n",
        "# Use the YAML file in model training\n",
        "model.train(data=str(data_path), epochs=20)"
      ]
    },
    {
      "cell_type": "code",
      "execution_count": 9,
      "metadata": {
        "id": "kW1NJNfiPCw_"
      },
      "outputs": [],
      "source": []
    },
    {
      "cell_type": "code",
      "execution_count": 16,
      "metadata": {
        "id": "Id5KQM7YfZG0"
      },
      "outputs": [],
      "source": [
        "infer = YOLO(\"/content/runs/detect/train3/weights/best.pt\")"
      ]
    },
    {
      "cell_type": "code",
      "execution_count": 18,
      "metadata": {
        "colab": {
          "base_uri": "https://localhost:8080/"
        },
        "id": "RxHkrjTbf0FI",
        "outputId": "985539c9-0a94-4828-a9f3-de9e0066638f"
      },
      "outputs": [
        {
          "output_type": "stream",
          "name": "stdout",
          "text": [
            "\n",
            "image 1/1 /content/5395978b-8aa3-488a-b5d4-d8cb241a9eb7.jpg: 384x640 9 friends, 1 qasim, 200.6ms\n",
            "Speed: 2.3ms preprocess, 200.6ms inference, 2.1ms postprocess per image at shape (1, 3, 384, 640)\n",
            "Results saved to \u001b[1mruns/detect/predict2\u001b[0m\n"
          ]
        },
        {
          "output_type": "execute_result",
          "data": {
            "text/plain": [
              "[ultralytics.engine.results.Results object with attributes:\n",
              " \n",
              " boxes: ultralytics.engine.results.Boxes object\n",
              " keypoints: None\n",
              " masks: None\n",
              " names: {0: 'friend', 1: 'qasim'}\n",
              " obb: None\n",
              " orig_img: array([[[250, 252, 253],\n",
              "         [250, 252, 253],\n",
              "         [250, 252, 253],\n",
              "         ...,\n",
              "         [ 39,  33,  38],\n",
              "         [ 39,  34,  43],\n",
              "         [ 40,  35,  44]],\n",
              " \n",
              "        [[250, 252, 253],\n",
              "         [250, 252, 253],\n",
              "         [250, 252, 253],\n",
              "         ...,\n",
              "         [ 39,  33,  38],\n",
              "         [ 39,  34,  43],\n",
              "         [ 40,  35,  44]],\n",
              " \n",
              "        [[250, 252, 253],\n",
              "         [250, 252, 253],\n",
              "         [250, 252, 253],\n",
              "         ...,\n",
              "         [ 39,  33,  38],\n",
              "         [ 39,  34,  43],\n",
              "         [ 40,  35,  44]],\n",
              " \n",
              "        ...,\n",
              " \n",
              "        [[ 84, 138, 138],\n",
              "         [ 11,  65,  65],\n",
              "         [ 53, 107, 108],\n",
              "         ...,\n",
              "         [ 32,  74,  79],\n",
              "         [ 57,  99, 104],\n",
              "         [ 56,  98, 103]],\n",
              " \n",
              "        [[ 40,  94,  94],\n",
              "         [  0,  52,  52],\n",
              "         [ 63, 117, 117],\n",
              "         ...,\n",
              "         [ 44,  86,  91],\n",
              "         [ 19,  61,  66],\n",
              "         [ 31,  73,  78]],\n",
              " \n",
              "        [[ 29,  83,  83],\n",
              "         [ 42,  96,  96],\n",
              "         [ 42,  96,  96],\n",
              "         ...,\n",
              "         [ 48,  90,  95],\n",
              "         [ 52,  94,  99],\n",
              "         [ 50,  92,  97]]], dtype=uint8)\n",
              " orig_shape: (720, 1280)\n",
              " path: '/content/5395978b-8aa3-488a-b5d4-d8cb241a9eb7.jpg'\n",
              " probs: None\n",
              " save_dir: 'runs/detect/predict2'\n",
              " speed: {'preprocess': 2.3398399353027344, 'inference': 200.63543319702148, 'postprocess': 2.117633819580078}]"
            ]
          },
          "metadata": {},
          "execution_count": 18
        }
      ],
      "source": [
        "infer.predict(\"/content/5395978b-8aa3-488a-b5d4-d8cb241a9eb7.jpg\", save=True)"
      ]
    },
    {
      "cell_type": "code",
      "execution_count": null,
      "metadata": {
        "id": "ZhP8FohxXOEk"
      },
      "outputs": [],
      "source": [
        "from google.colab import drive\n",
        "drive.mount('/content/drive')"
      ]
    },
    {
      "cell_type": "code",
      "execution_count": null,
      "metadata": {
        "id": "-zEbuYFFx8DW"
      },
      "outputs": [],
      "source": [
        "infer.predict(\"/content/WhatsApp Image 2024-03-15 at 21.15.11.jpeg\", save=True)"
      ]
    },
    {
      "cell_type": "code",
      "execution_count": null,
      "metadata": {
        "id": "yQI68_4TyDVU"
      },
      "outputs": [],
      "source": [
        "import subprocess\n",
        "\n",
        "# Set the locale to UTF-8\n",
        "import os\n",
        "os.environ['LANG'] = 'en_US.UTF-8'\n",
        "\n",
        "# Define the YOLO detection command\n",
        "yolo_command = 'yolo detect predict model=\"/content/runs/detect/train/weights/best.pt\" source=\"/content/friends.mp4\"'\n",
        "\n",
        "# Run the YOLO command using subprocess\n",
        "subprocess.run(yolo_command, shell=True)\n"
      ]
    },
    {
      "cell_type": "code",
      "execution_count": null,
      "metadata": {
        "id": "dH841lmibEzV"
      },
      "outputs": [],
      "source": [
        "\n",
        "\n",
        "# Load the custom YOLOv5 model\n",
        "infer = YOLO(\"/content/runs/detect/train/weights/best.pt\")\n",
        "\n",
        "# Perform object detection on an image\n",
        "image_path = \"/content/drive/MyDrive/qas/eb6a4777-8735-47bc-b1d7-757a7dcb0a46.jpg\"\n",
        "infer.predict(image_path, save=True)"
      ]
    },
    {
      "cell_type": "code",
      "execution_count": null,
      "metadata": {
        "id": "HYVnNTe9d9U0"
      },
      "outputs": [],
      "source": [
        "import torch\n",
        "\n",
        "from PIL import Image, ImageDraw\n",
        "\n",
        "# Load the custom YOLOv5 model\n",
        "infer = YOLO(\"/content/runs/detect/train/weights/best.pt\")\n",
        "\n",
        "# Perform object detection on an image\n",
        "image_path = \"/content/drive/MyDrive/data/test/images/gettyimages-523359010-1024x1024_jpg.rf.1b4d42949e6cd56af3e4cb682ac6e48e.jpg\"\n",
        "results = infer.predict(image_path, save=True)\n",
        "\n",
        "print(results)\n"
      ]
    },
    {
      "cell_type": "code",
      "execution_count": null,
      "metadata": {
        "id": "_x5MIkBueqmU"
      },
      "outputs": [],
      "source": [
        "import torch\n",
        "from PIL import Image, ImageDraw\n",
        "\n",
        "\n",
        "# Load the custom YOLOv5 model\n",
        "infer = YOLO(\"/content/runs/detect/train/weights/best.pt\")\n",
        "\n",
        "# Perform object detection on an image\n",
        "image_path = \"/content/drive/MyDrive/data/test/images/gettyimages-523359010-1024x1024_jpg.rf.1b4d42949e6cd56af3e4cb682ac6e48e.jpg\"\n",
        "results = infer.predict(image_path, save=True)\n",
        "\n",
        "# Load the image\n",
        "image = Image.open(image_path)\n",
        "draw = ImageDraw.Draw(image)\n",
        "\n",
        "# Initialize counters\n",
        "male_count = 0\n",
        "female_count = 0\n",
        "\n",
        "# Iterate over the detections\n",
        "for label, conf, bbox in zip(results[0].boxes.cls, results[0].boxes.conf, results[0].boxes.xyxy):\n",
        "    x1, y1, x2, y2 = [int(i) for i in bbox]\n",
        "    class_id = int(label)\n",
        "    class_name = infer.names[class_id]\n",
        "\n",
        "    # Increment the counters and draw the counts on the image\n",
        "    if class_name == 'male':\n",
        "        male_count += 1\n",
        "        draw.text((x1, y1), f\"Male\", fill=(255, 0, 0))\n",
        "    elif class_name == 'female':\n",
        "        female_count += 1\n",
        "        draw.text((x1, y1), f\"Female\", fill=(0, 0, 255))\n",
        "\n",
        "# Display the counts on the image\n",
        "draw.text((10, 10), f\"Male Count: {male_count}\", fill=(255, 0, 0))\n",
        "draw.text((10, 30), f\"Female Count: {female_count}\", fill=(0, 0, 255))\n",
        "\n",
        "# Save the image with counts\n",
        "image.save('detected_image_with_counts.jpg')\n"
      ]
    },
    {
      "cell_type": "code",
      "execution_count": null,
      "metadata": {
        "id": "66DiVnAMfACF"
      },
      "outputs": [],
      "source": [
        "import torch\n",
        "from PIL import Image, ImageDraw\n",
        "\n",
        "\n",
        "# Load the custom YOLOv5 model\n",
        "infer = YOLO(\"/content/runs/detect/train/weights/best.pt\")\n",
        "\n",
        "# Perform object detection on an image\n",
        "image_path = \"/content/drive/MyDrive/data/test/images/gettyimages-523359010-1024x1024_jpg.rf.1b4d42949e6cd56af3e4cb682ac6e48e.jpg\"\n",
        "results = infer.predict(image_path, save=True)\n",
        "\n",
        "# Load the image\n",
        "image = Image.open(image_path)\n",
        "draw = ImageDraw.Draw(image)\n",
        "\n",
        "# Initialize counters\n",
        "male_count = 0\n",
        "female_count = 0\n",
        "\n",
        "# Iterate over the detections\n",
        "for label, conf, bbox in zip(results[0].boxes.cls, results[0].boxes.conf, results[0].boxes.xyxy):\n",
        "    x1, y1, x2, y2 = [int(i) for i in bbox]\n",
        "    class_id = int(label)\n",
        "    class_name = infer.names[class_id]\n",
        "\n",
        "    # Increment the counters\n",
        "    if class_name == 'male':\n",
        "        male_count += 1\n",
        "    elif class_name == 'female':\n",
        "        female_count += 1\n",
        "\n",
        "# Draw the counts on the image\n",
        "draw.text((10, 10), f\"Male Count: {male_count}\", fill=(255, 0, 0))\n",
        "draw.text((10, 30), f\"Female Count: {female_count}\", fill=(0, 0, 255))\n",
        "\n",
        "# Save the image with counts\n",
        "image.save('detected_image_with_counts.jpg')\n"
      ]
    },
    {
      "cell_type": "code",
      "execution_count": null,
      "metadata": {
        "id": "g8znBcUYfdBI"
      },
      "outputs": [],
      "source": [
        "import torch\n",
        "from PIL import Image, ImageDraw\n",
        "\n",
        "\n",
        "# Load the custom YOLOv5 model\n",
        "infer = YOLO(\"/content/runs/detect/train/weights/best.pt\")\n",
        "\n",
        "# Perform object detection on an image\n",
        "image_path = \"/content/drive/MyDrive/data/test/images/gettyimages-523359010-1024x1024_jpg.rf.1b4d42949e6cd56af3e4cb682ac6e48e.jpg\"\n",
        "results = infer.predict(image_path, save=True)\n",
        "\n",
        "# Load the image\n",
        "image = Image.open(image_path)\n",
        "draw = ImageDraw.Draw(image)\n",
        "\n",
        "# Initialize counters\n",
        "male_count = 0\n",
        "female_count = 0\n",
        "total_count = 0\n",
        "\n",
        "# Iterate over the detections\n",
        "for *box, conf, cls in results[0].xyxy[0]:\n",
        "    x1, y1, x2, y2 = [int(i) for i in box]\n",
        "    class_id = int(cls)\n",
        "    class_name = infer.names[class_id]\n",
        "\n",
        "    # Increment the counters\n",
        "    if class_name == 'male':\n",
        "        male_count += 1\n",
        "    elif class_name == 'female':\n",
        "        female_count += 1\n",
        "    total_count += 1\n",
        "\n",
        "    # Draw the bounding box and label on the image\n",
        "    draw.rectangle([(x1, y1), (x2, y2)], outline=(255, 0, 0), width=2)\n",
        "    draw.text((x1, y1), f\"{class_name} ({conf:.2f})\", (255, 255, 255))\n",
        "\n",
        "# Draw the counts on the image\n",
        "draw.text((10, 10), f\"Male Count: {male_count}\", fill=(255, 0, 0))\n",
        "draw.text((10, 30), f\"Female Count: {female_count}\", fill=(0, 0, 255))\n",
        "draw.text((10, 50), f\"Total Count: {total_count}\", fill=(255, 255, 255))\n",
        "\n",
        "# Save the image with counts\n",
        "image.save('detected_image_with_counts.jpg')"
      ]
    },
    {
      "cell_type": "code",
      "execution_count": null,
      "metadata": {
        "id": "lOMWnSFZfoWk"
      },
      "outputs": [],
      "source": [
        "import torch\n",
        "from PIL import Image, ImageDraw\n",
        "\n",
        "\n",
        "# Load the custom YOLOv5 model\n",
        "infer = YOLO(\"/content/runs/detect/train/weights/best.pt\")\n",
        "\n",
        "# Perform object detection on an image\n",
        "image_path = \"/content/drive/MyDrive/data/test/images/gettyimages-523359010-1024x1024_jpg.rf.1b4d42949e6cd56af3e4cb682ac6e48e.jpg\"\n",
        "results = infer.predict(image_path, save=True)\n",
        "\n",
        "# Load the image\n",
        "image = Image.open(image_path)\n",
        "draw = ImageDraw.Draw(image)\n",
        "\n",
        "# Initialize counters\n",
        "male_count = 0\n",
        "female_count = 0\n",
        "total_count = 0\n",
        "\n",
        "# Iterate over the detections\n",
        "for det in results.xyxy[0]:\n",
        "    x1, y1, x2, y2, conf, cls = [int(i) for i in det]\n",
        "    class_id = int(cls)\n",
        "    class_name = infer.names[class_id]\n",
        "\n",
        "    # Increment the counters\n",
        "    if class_name == 'male':\n",
        "        male_count += 1\n",
        "    elif class_name == 'female':\n",
        "        female_count += 1\n",
        "    total_count += 1\n",
        "\n",
        "    # Draw the bounding box and label on the image\n",
        "    draw.rectangle([(x1, y1), (x2, y2)], outline=(255, 0, 0), width=2)\n",
        "    draw.text((x1, y1), f\"{class_name} ({conf:.2f})\", (255, 255, 255))\n",
        "\n",
        "# Draw the counts on the image\n",
        "draw.text((10, 10), f\"Male Count: {male_count}\", fill=(255, 0, 0))\n",
        "draw.text((10, 30), f\"Female Count: {female_count}\", fill=(0, 0, 255))\n",
        "draw.text((10, 50), f\"Total Count: {total_count}\", fill=(255, 255, 255))\n",
        "\n",
        "# Save the image with counts\n",
        "image.save('detected_image_with_counts.jpg')"
      ]
    },
    {
      "cell_type": "code",
      "execution_count": null,
      "metadata": {
        "id": "7lMaaL-Hfxe2"
      },
      "outputs": [],
      "source": [
        "import torch\n",
        "from PIL import Image, ImageDraw\n",
        "\n",
        "# Load the custom YOLOv5 model\n",
        "infer = YOLO(\"/content/runs/detect/train/weights/best.pt\")\n",
        "\n",
        "# Perform object detection on an image\n",
        "image_path = \"/content/drive/MyDrive/data/test/images/gettyimages-523359010-1024x1024_jpg.rf.1b4d42949e6cd56af3e4cb682ac6e48e.jpg\"\n",
        "results = infer.predict(image_path, save=True)\n",
        "\n",
        "# Load the image\n",
        "image = Image.open(image_path)\n",
        "draw = ImageDraw.Draw(image)\n",
        "\n",
        "# Initialize counters\n",
        "male_count = 0\n",
        "female_count = 0\n",
        "total_count = 0\n",
        "\n",
        "# Iterate over the detections\n",
        "for det in results[0].boxes.data.tolist():\n",
        "    x1, y1, x2, y2, conf, cls = [int(i) for i in det]\n",
        "    class_id = int(cls)\n",
        "    class_name = infer.names[class_id]\n",
        "\n",
        "    # Increment the counters\n",
        "    if class_name == 'male':\n",
        "        male_count += 1\n",
        "    elif class_name == 'female':\n",
        "        female_count += 1\n",
        "    total_count += 1\n",
        "\n",
        "    # Draw the bounding box and label on the image\n",
        "    draw.rectangle([(x1, y1), (x2, y2)], outline=(255, 0, 0), width=2)\n",
        "    draw.text((x1, y1), f\"{class_name} ({conf:.2f})\", (255, 255, 255))\n",
        "\n",
        "# Draw the counts on the image\n",
        "draw.text((10, 10), f\"Male Count: {male_count}\", fill=(255, 0, 0))\n",
        "draw.text((10, 30), f\"Female Count: {female_count}\", fill=(0, 0, 255))\n",
        "draw.text((10, 50), f\"Total Count: {total_count}\", fill=(255, 255, 255))\n",
        "\n",
        "# Save the image with counts\n",
        "image.save('detected_image_with_counts.jpg')"
      ]
    },
    {
      "cell_type": "code",
      "execution_count": null,
      "metadata": {
        "id": "eAU3SCS8i8jD"
      },
      "outputs": [],
      "source": []
    },
    {
      "cell_type": "code",
      "execution_count": null,
      "metadata": {
        "id": "fE8okOAwgL_9"
      },
      "outputs": [],
      "source": [
        "import torch\n",
        "from PIL import Image, ImageDraw\n",
        "\n",
        "\n",
        "# Load the custom YOLOv5 model\n",
        "infer = YOLO(\"/content/runs/detect/train/weights/best.pt\")\n",
        "\n",
        "# Perform object detection on an image\n",
        "image_path = \"/content/drive/MyDrive/data/test/images/img-31_jpeg.rf.7d6f2153072d179b4c819dd144519873.jpg\"\n",
        "results = infer.predict(image_path, save=True)\n",
        "\n",
        "# Load the image\n",
        "image = Image.open(image_path)\n",
        "draw = ImageDraw.Draw(image)\n",
        "\n",
        "# Define the class names\n",
        "class_names = ['male', 'female']\n",
        "\n",
        "# Initialize counters\n",
        "male_count = 0\n",
        "female_count = 0\n",
        "total_count = 0\n",
        "\n",
        "# Iterate over the detections\n",
        "for det in results[0].boxes.data.tolist():\n",
        "    x1, y1, x2, y2, conf, cls = [int(i) for i in det]\n",
        "    class_id = int(cls)\n",
        "    class_name = class_names[class_id]\n",
        "\n",
        "    # Increment the counters\n",
        "    if class_name == 'male':\n",
        "        male_count += 1\n",
        "    elif class_name == 'female':\n",
        "        female_count += 1\n",
        "    total_count += 1\n",
        "\n",
        "    # Draw the bounding box and label on the image\n",
        "    draw.rectangle([(x1, y1), (x2, y2)], outline=(255, 0, 0), width=2)\n",
        "    draw.text((x1, y1), f\"{class_name} ({conf:.2f})\", (255, 255, 255))\n",
        "\n",
        "# Draw the counts on the image\n",
        "draw.text((10, 10), f\"Male Count: {male_count}\", fill=(255, 0, 0))\n",
        "draw.text((10, 30), f\"Female Count: {female_count}\", fill=(0, 0, 255))\n",
        "draw.text((10, 50), f\"Total Count: {total_count}\", fill=(255, 255, 255))\n",
        "\n",
        "# Save the image with counts\n",
        "image.save('detected_image_with_counts.jpg')"
      ]
    },
    {
      "cell_type": "code",
      "execution_count": null,
      "metadata": {
        "id": "jNqkWZOVhNM_"
      },
      "outputs": [],
      "source": [
        "import torch\n",
        "from PIL import Image, ImageDraw\n",
        "\n",
        "\n",
        "# Load the custom YOLOv5 model\n",
        "\n",
        "\n",
        "# Perform object detection on an image\n",
        "image_path = \"/content/drive/MyDrive/data/test/images/img-31_jpeg.rf.7d6f2153072d179b4c819dd144519873.jpg\"\n",
        "results = model(image_path)\n",
        "\n",
        "# Load the image\n",
        "image = Image.open(image_path)\n",
        "draw = ImageDraw.Draw(image)\n",
        "\n",
        "# Initialize counters\n",
        "male_count = 0\n",
        "female_count = 0\n",
        "\n",
        "# Define class names\n",
        "class_names = model.module.names if hasattr(model, 'module') else model.names\n",
        "\n",
        "# Iterate over the detections\n",
        "for *box, conf, cls in results.xyxy[0]:\n",
        "    x1, y1, x2, y2 = [int(i) for i in box]\n",
        "    class_id = int(cls)\n",
        "    class_name = class_names[class_id]\n",
        "\n",
        "    # Increment the counters\n",
        "    if class_name == 'male':\n",
        "        male_count += 1\n",
        "    elif class_name == 'female':\n",
        "        female_count += 1\n",
        "\n",
        "# Draw the counts on the image\n",
        "male_text = f\"Male: {male_count}\"\n",
        "female_text = f\"Female: {female_count}\"\n",
        "total_text = f\"Total: {male_count + female_count}\"\n",
        "draw.text((10, 10), male_text, fill=(255, 0, 0))\n",
        "draw.text((10, 30), female_text, fill=(0, 0, 255))\n",
        "draw.text((10, 50), total_text, fill=(0, 255, 0))\n",
        "\n",
        "# Save the image with counts\n",
        "image_with_counts_path = 'detected_image_with_counts.jpg'\n",
        "image.save(image_with_counts_path)\n",
        "# Display the image\n",
        "image.show()\n"
      ]
    },
    {
      "cell_type": "code",
      "execution_count": null,
      "metadata": {
        "id": "kV-St-w2h20N"
      },
      "outputs": [],
      "source": [
        "import torch\n",
        "from PIL import Image, ImageDraw\n",
        "import pandas as pd\n",
        "\n",
        "# Load the custom YOLOv5 model\n",
        "model = torch.hub.load('ultralytics/yolov5', 'custom', path='/content/runs/detect/train/weights/best.pt')\n",
        "\n",
        "# Perform object detection on an image\n",
        "image_path = \"/content/drive/MyDrive/data/test/images/img-31_jpeg.rf.7d6f2153072d179b4c819dd144519873.jpg\"\n",
        "results = model(image_path)\n",
        "\n",
        "# Load the image\n",
        "image = Image.open(image_path)\n",
        "draw = ImageDraw.Draw(image)\n",
        "\n",
        "# Initialize counters\n",
        "male_count = 0\n",
        "female_count = 0\n",
        "\n",
        "# Iterate over the detections\n",
        "detections = results.pandas().xyxy[0]\n",
        "for _, row in detections.iterrows():\n",
        "    x1, y1, x2, y2, conf, class_name = row\n",
        "\n",
        "    # Increment the counters\n",
        "    if class_name == 'male':\n",
        "        male_count += 1\n",
        "    elif class_name == 'female':\n",
        "        female_count += 1\n",
        "\n",
        "    # Draw the bounding box and label on the image\n",
        "    draw.rectangle([(x1, y1), (x2, y2)], outline=(255, 0, 0), width=2)\n",
        "    draw.text((x1, y1), f\"{class_name} ({conf:.2f})\", (255, 255, 255))\n",
        "\n",
        "# Draw the counts on the image\n",
        "male_text = f\"Male: {male_count}\"\n",
        "female_text = f\"Female: {female_count}\"\n",
        "total_text = f\"Total: {male_count + female_count}\"\n",
        "draw.text((10, 10), male_text, fill=(255, 0, 0))\n",
        "draw.text((10, 30), female_text, fill=(0, 0, 255))\n",
        "draw.text((10, 50), total_text, fill=(0, 255, 0))\n",
        "\n",
        "# Save the image with counts\n",
        "image_with_counts_path = 'detected_image_with_counts.jpg'\n",
        "image.save(image_with_counts_path)\n",
        "# Display the image\n",
        "image.show()"
      ]
    },
    {
      "cell_type": "code",
      "execution_count": null,
      "metadata": {
        "id": "b1BfqM4Fh-wf"
      },
      "outputs": [],
      "source": [
        "import torch\n",
        "from PIL import Image, ImageDraw\n",
        "\n",
        "# Load the custom YOLOv5 model\n",
        "infer = YOLO(\"/content/runs/detect/train/weights/best.pt\")\n",
        "\n",
        "# Perform object detection on an image\n",
        "image_path = \"/content/drive/MyDrive/data/test/images/gettyimages-523359010-1024x1024_jpg.rf.1b4d42949e6cd56af3e4cb682ac6e48e.jpg\"\n",
        "results = infer.predict(image_path, save=True)\n",
        "\n",
        "# Load the image\n",
        "image = Image.open(image_path)\n",
        "draw = ImageDraw.Draw(image)\n",
        "\n",
        "# Initialize counters with a background color for better visibility\n",
        "font_size = 20  # Adjust font size as needed\n",
        "text_color = (255, 255, 255)  # White for better visibility on various backgrounds\n",
        "background_color = (0, 0, 0)  # Black background for the text box\n",
        "male_count = 0\n",
        "female_count = 0\n",
        "total_count = 0\n",
        "\n",
        "# Iterate over the detections\n",
        "for det in results[0].boxes.data.tolist():\n",
        "  x1, y1, x2, y2, conf, cls = [int(i) for i in det]\n",
        "  class_id = int(cls)\n",
        "  class_name = infer.names[class_id]\n",
        "\n",
        "  # Increment the counters\n",
        "  if class_name == 'male':\n",
        "    male_count += 1\n",
        "  elif class_name == 'female':\n",
        "    female_count += 1\n",
        "  total_count += 1\n",
        "\n",
        "  # Draw the bounding box and label on the image\n",
        "  draw.rectangle([(x1, y1), (x2, y2)], outline=(255, 0, 0), width=2)\n",
        "  draw.text((x1, y1), f\"{class_name} ({conf:.2f})\", (255, 255, 255))\n",
        "\n",
        "# Draw the counts on the image with background box\n",
        "text_width, text_height = draw.textsize(f\"Total Count: {total_count}\")\n",
        "draw.rectangle(((0, 0), (text_width + 10, text_height + 10)), fill=background_color)  # Create background box\n",
        "draw.text((10, 10), f\"Male Count: {male_count}\", fill=text_color)\n",
        "draw.text((10, 30), f\"Female Count: {female_count}\", fill=text_color)\n",
        "draw.text((10, 50), f\"Total Count: {total_count}\", fill=text_color)\n",
        "\n",
        "# Save the image with counts\n",
        "image.save('detected_image_with_counts.jpg')\n"
      ]
    },
    {
      "cell_type": "code",
      "execution_count": null,
      "metadata": {
        "id": "4WiWtqgcjp6P"
      },
      "outputs": [],
      "source": [
        "import torch\n",
        "from PIL import Image, ImageDraw\n",
        "\n",
        "# Load the custom YOLOv5 model (replace with your actual path)\n",
        "infer = YOLO(\"/content/runs/detect/train/weights/best.pt\")\n",
        "\n",
        "# Perform object detection on an image (replace with your image path)\n",
        "image_path = \"/content/drive/MyDrive/data/test/images/gettyimages-523359010-1024x1024_jpg.rf.1b4d42949e6cd56af3e4cb682ac6e48e.jpg\"\n",
        "results = infer.predict(image_path, save=True)\n",
        "\n",
        "# Load the image\n",
        "image = Image.open(image_path)\n",
        "draw = ImageDraw.Draw(image)\n",
        "\n",
        "# Initialize counters with a background color for better visibility\n",
        "font_size = 20  # Adjust font size as needed\n",
        "text_color = (255, 255, 255)  # White for better visibility on various backgrounds\n",
        "\n",
        "# Choose a background box approach (modify alpha value for transparency in option 2)\n",
        "# Option 1: Solid background box\n",
        "background_color = (0, 0, 0)  # Black background box\n",
        "\n",
        "# Option 2: Transparent background box\n",
        "# background_color = (0, 0, 0, 128)  # Adjust alpha value for transparency (0-255)\n",
        "\n",
        "male_count = 0\n",
        "female_count = 0\n",
        "total_count = 0\n",
        "\n",
        "# Iterate over the detections\n",
        "for det in results[0].boxes.data.tolist():\n",
        "  x1, y1, x2, y2, conf, cls = [int(i) for i in det]\n",
        "  class_id = int(cls)\n",
        "  class_name = infer.names[class_id]\n",
        "\n",
        "  # Increment the counters\n",
        "  if class_name == 'male':\n",
        "    male_count += 1\n",
        "  elif class_name == 'female':\n",
        "    female_count += 1\n",
        "  total_count += 1\n",
        "\n",
        "  # Draw the bounding box and label on the image\n",
        "  draw.rectangle([(x1, y1), (x2, y2)], outline=(255, 0, 0), width=2)\n",
        "  draw.text((x1, y1), f\"{class_name} ({conf:.2f})\", (255, 255, 255))\n",
        "\n",
        "# Draw the counts on the image with background box\n",
        "text_width, text_height = draw.textsize(f\"Total Count: {total_count}\")\n",
        "draw.rectangle(((0, 0), (text_width + 10, text_height + 10)), fill=background_color)\n",
        "draw.text((10, 10), f\"Male Count: {male_count}\", fill=text_color)\n",
        "draw.text((10, 30), f\"Female Count: {female_count}\", fill=text_color)\n",
        "draw.text((10, 50), f\"Total Count: {total_count}\", fill=text_color)\n",
        "\n",
        "# Save the image with counts\n",
        "image.save('detected_image_with_counts.jpg')\n"
      ]
    },
    {
      "cell_type": "code",
      "execution_count": null,
      "metadata": {
        "id": "c4tOA6NbkG5u"
      },
      "outputs": [],
      "source": [
        "import torch\n",
        "from PIL import Image, ImageDraw\n",
        "\n",
        "# Load the custom YOLOv5 model (replace with your actual path)\n",
        "infer = YOLO(\"/content/runs/detect/train/weights/best.pt\")\n",
        "\n",
        "# Perform object detection on an image (replace with your image path)\n",
        "image_path = \"/content/drive/MyDrive/data/test/images/gettyimages-523359010-1024x1024_jpg.rf.1b4d42949e6cd56af3e4cb682ac6e48e.jpg\"\n",
        "results = infer.predict(image_path, save=False)  # Set save=False to avoid saving the image\n",
        "\n",
        "# Load the image (optional, not used for printing counts)\n",
        "# image = Image.open(image_path)\n",
        "\n",
        "# Initialize counters\n",
        "male_count = 0\n",
        "female_count = 0\n",
        "total_count = 0\n",
        "\n",
        "# Iterate over the detections\n",
        "for det in results[0].boxes.data.tolist():\n",
        "  x1, y1, x2, y2, conf, cls = [int(i) for i in det]\n",
        "  class_id = int(cls)\n",
        "  class_name = infer.names[class_id]\n",
        "\n",
        "  # Increment the counters\n",
        "  if class_name == 'male':\n",
        "    male_count += 1\n",
        "  elif class_name == 'female':\n",
        "    female_count += 1\n",
        "  total_count += 1\n",
        "\n",
        "# Print the counts\n",
        "print(f\"Male Count: {male_count}\")\n",
        "print(f\"Female Count: {female_count}\")\n",
        "print(f\"Total Count: {total_count}\")\n"
      ]
    },
    {
      "cell_type": "code",
      "execution_count": null,
      "metadata": {
        "id": "l_ERPH2MkPDM"
      },
      "outputs": [],
      "source": [
        "from IPython.display import display\n",
        "import torch\n",
        "from PIL import Image, ImageDraw\n",
        "\n",
        "# Load the custom YOLOv5 model (replace with your actual path)\n",
        "infer = YOLO(\"/content/runs/detect/train/weights/best.pt\")\n",
        "\n",
        "# Perform object detection on an image (replace with your image path)\n",
        "image_path = \"/content/drive/MyDrive/data/test/images/gettyimages-523359010-1024x1024_jpg.rf.1b4d42949e6cd56af3e4cb682ac6e48e.jpg\"\n",
        "results = infer.predict(image_path, save=False)  # Set save=False to avoid saving the image\n",
        "\n",
        "# Load the image\n",
        "image = Image.open(image_path)\n",
        "\n",
        "# Initialize counters\n",
        "male_count = 0\n",
        "female_count = 0\n",
        "total_count = 0\n",
        "\n",
        "# Iterate over the detections\n",
        "for det in results[0].boxes.data.tolist():\n",
        "  x1, y1, x2, y2, conf, cls = [int(i) for i in det]\n",
        "  class_id = int(cls)\n",
        "  class_name = infer.names[class_id]\n",
        "\n",
        "  # Increment the counters\n",
        "  if class_name == 'male':\n",
        "    male_count += 1\n",
        "  elif class_name == 'female':\n",
        "    female_count += 1\n",
        "  total_count += 1\n",
        "\n",
        "# Print the counts\n",
        "print(f\"Male Count: {male_count}\")\n",
        "print(f\"Female Count: {female_count}\")\n",
        "print(f\"Total Count: {total_count}\")\n",
        "\n",
        "# Display the image\n",
        "display(image)\n"
      ]
    },
    {
      "cell_type": "code",
      "execution_count": null,
      "metadata": {
        "id": "mkatavkZlbAl"
      },
      "outputs": [],
      "source": [
        "from IPython.display import display\n",
        "from PIL import Image, ImageDraw\n",
        "\n",
        "# Load the custom YOLOv5 model (replace with your actual path)\n",
        "infer = YOLO(\"/content/runs/detect/train/weights/best.pt\")\n",
        "\n",
        "# Perform object detection on an image (replace with your image path)\n",
        "image_path = \"/content/drive/MyDrive/data/test/images/gettyimages-523359010-1024x1024_jpg.rf.1b4d42949e6cd56af3e4cb682ac6e48e.jpg\"\n",
        "results = infer.predict(image_path, save=False)  # Set save=False to avoid saving the image\n",
        "\n",
        "# Load the image\n",
        "image = Image.open(image_path)\n",
        "draw = ImageDraw.Draw(image)\n",
        "\n",
        "# Initialize counters\n",
        "male_count = 0\n",
        "female_count = 0\n",
        "total_count = 0\n",
        "\n",
        "# Iterate over the detections\n",
        "for det in results[0].boxes.data.tolist():\n",
        "    x1, y1, x2, y2, conf, cls = [int(i) for i in det]\n",
        "    class_id = int(cls)\n",
        "    class_name = infer.names[class_id]\n",
        "\n",
        "    # Increment the counters\n",
        "    if class_name == 'male':\n",
        "        male_count += 1\n",
        "    elif class_name == 'female':\n",
        "        female_count += 1\n",
        "    total_count += 1\n",
        "\n",
        "    # Draw bounding boxes around the detected objects\n",
        "    draw.rectangle([x1, y1, x2, y2], outline=\"red\")\n",
        "    draw.text((x1, y1), f\"{class_name}\", fill=\"red\")\n",
        "\n",
        "# Print the counts\n",
        "print(f\"Male Count: {male_count}\")\n",
        "print(f\"Female Count: {female_count}\")\n",
        "print(f\"Total Count: {total_count}\")\n",
        "\n",
        "# Display the image with detections\n",
        "display(image)\n"
      ]
    },
    {
      "cell_type": "code",
      "execution_count": null,
      "metadata": {
        "id": "-i6OfhNTlw-v"
      },
      "outputs": [],
      "source": [
        "from IPython.display import display\n",
        "import torch\n",
        "from PIL import Image, ImageDraw\n",
        "\n",
        "\n",
        "# Load the custom YOLOv5 model\n",
        "infer = YOLO(\"/content/runs/detect/train/weights/best.pt\")\n",
        "\n",
        "# Perform object detection on an image\n",
        "image_path = \"/content/drive/MyDrive/data/test/images/img-32_jpeg.rf.782452c2d0a31ce008214d19454eb69e.jpg\"\n",
        "results = infer.predict(image_path, save=False)  # Set save=False to avoid saving the image\n",
        "\n",
        "# Load the image\n",
        "image = Image.open(image_path)\n",
        "draw = ImageDraw.Draw(image)\n",
        "\n",
        "# Initialize counters\n",
        "male_count = 0\n",
        "female_count = 0\n",
        "total_count = 0\n",
        "\n",
        "# Iterate over the detections\n",
        "for det in results[0].boxes.data.tolist():\n",
        "    x1, y1, x2, y2, conf, cls = [int(i) for i in det]\n",
        "    class_id = int(cls)\n",
        "    class_name = infer.names[class_id]\n",
        "\n",
        "    # Increment the counters\n",
        "    if class_name == 'male':\n",
        "        male_count += 1\n",
        "    elif class_name == 'female':\n",
        "        female_count += 1\n",
        "    total_count += 1\n",
        "\n",
        "    # Draw the bounding box and label on the image\n",
        "    draw.rectangle([(x1, y1), (x2, y2)], outline=(255, 0, 0), width=2)\n",
        "    draw.text((x1, y1), f\"{class_name} ({conf:.2f})\", (255, 255, 255))\n",
        "\n",
        "# Draw the counts on the image\n",
        "draw.text((10, 10), f\"Male Count: {male_count}\", fill=(255, 0, 0))\n",
        "draw.text((10, 30), f\"Female Count: {female_count}\", fill=(0, 0, 255))\n",
        "draw.text((10, 50), f\"Total Count: {total_count}\", fill=(0, 255, 0))\n",
        "\n",
        "# Display the image with detections and counts\n",
        "display(image)"
      ]
    },
    {
      "cell_type": "code",
      "execution_count": null,
      "metadata": {
        "id": "GgnmlqgwmeWy"
      },
      "outputs": [],
      "source": [
        "from IPython.display import display\n",
        "import torch\n",
        "from PIL import Image, ImageDraw\n",
        "\n",
        "# Load the custom YOLOv5 model\n",
        "infer = YOLO(\"/content/runs/detect/train/weights/best.pt\")\n",
        "\n",
        "# Perform object detection on an image\n",
        "image_path = \"/content/drive/MyDrive/data/test/images/img-32_jpeg.rf.782452c2d0a31ce008214d19454eb69e.jpg\"\n",
        "results = infer.predict(image_path, save=False)  # Set save=False to avoid saving the image\n",
        "\n",
        "# Load the image\n",
        "image = Image.open(image_path)\n",
        "draw = ImageDraw.Draw(image)\n",
        "\n",
        "# Initialize counters\n",
        "male_count = 0\n",
        "female_count = 0\n",
        "total_count = 0\n",
        "\n",
        "# Iterate over the detections\n",
        "for det in results[0].boxes.data.tolist():\n",
        "    x1, y1, x2, y2, conf, cls = [int(i) for i in det]\n",
        "    class_id = int(cls)\n",
        "    class_name = infer.names[class_id]\n",
        "\n",
        "    # Increment the counters\n",
        "    if class_name == 'male':\n",
        "        male_count += 1\n",
        "    elif class_name == 'female':\n",
        "        female_count += 1\n",
        "    total_count += 1\n",
        "\n",
        "    # Draw the bounding box and label on the image\n",
        "    draw.rectangle([(x1, y1), (x2, y2)], outline=(255, 0, 0), width=3)  # Increase the thickness of the bounding box\n",
        "    draw.text((x1, y1), f\"{class_name} ({conf:.2f})\", fill=(255, 255, 255), font=None)  # Adjust text color and font\n",
        "\n",
        "# Draw the counts on the image with enhanced visibility\n",
        "draw.text((10, 10), f\"Male Count: {male_count}\", fill=(255, 0, 0), font=None)  # Adjust text color and font\n",
        "draw.text((10, 30), f\"Female Count: {female_count}\", fill=(0, 0, 255), font=None)  # Adjust text color and font\n",
        "draw.text((10, 50), f\"Total Count: {total_count}\", fill=(0, 255, 0), font=None)  # Adjust text color and font\n",
        "\n",
        "# Display the image with enhanced visibility of counts and bounding boxes\n",
        "display(image)"
      ]
    },
    {
      "cell_type": "code",
      "execution_count": null,
      "metadata": {
        "id": "JmyfW5YroC-V"
      },
      "outputs": [],
      "source": []
    },
    {
      "cell_type": "code",
      "execution_count": null,
      "metadata": {
        "id": "mDssLhFvnADO"
      },
      "outputs": [],
      "source": [
        "from IPython.display import display\n",
        "from PIL import Image, ImageDraw, ImageFont\n",
        "\n",
        "# Load the custom YOLOv5 model\n",
        "infer = YOLO(\"/content/runs/detect/train/weights/best.pt\")\n",
        "\n",
        "# Perform object detection on an image\n",
        "image_path = \"/content/drive/MyDrive/data/test/images/img-32_jpeg.rf.782452c2d0a31ce008214d19454eb69e.jpg\"\n",
        "results = infer.predict(image_path, save=False)  # Set save=False to avoid saving the image\n",
        "\n",
        "# Load the image\n",
        "image = Image.open(image_path)\n",
        "draw = ImageDraw.Draw(image)\n",
        "\n",
        "# Initialize counters\n",
        "male_count = 0\n",
        "female_count = 0\n",
        "total_count = 0\n",
        "\n",
        "# Font settings for displaying text\n",
        "font = ImageFont.load_default()  # Use default font\n",
        "font_color = (255, 255, 255)  # White font color\n",
        "\n",
        "# Iterate over the detections\n",
        "for det in results[0].boxes.data.tolist():\n",
        "    x1, y1, x2, y2, conf, cls = [int(i) for i in det]\n",
        "    class_id = int(cls)\n",
        "    class_name = infer.names[class_id]\n",
        "\n",
        "    # Increment the counters\n",
        "    if class_name == 'male':\n",
        "        male_count += 1\n",
        "    elif class_name == 'female':\n",
        "        female_count += 1\n",
        "    total_count += 1\n",
        "\n",
        "    # Draw the bounding box and label on the image\n",
        "    draw.rectangle([(x1, y1), (x2, y2)], outline=(255, 0, 0), width=3)  # Red bounding box\n",
        "    draw.text((x1, y1), f\"{class_name} ({conf:.2f})\", fill=font_color, font=font)  # Display class name and confidence score\n",
        "\n",
        "# Draw the counts on the image with enhanced visibility\n",
        "draw.text((10, 10), f\"Male Count: {male_count}\", fill=(255, 0, 0), font=font)  # Red male count\n",
        "draw.text((10, 30), f\"Female Count: {female_count}\", fill=(0, 0, 255), font=font)  # Blue female count\n",
        "draw.text((10, 50), f\"Total Count: {total_count}\", fill=(0, 255, 0), font=font)  # Green total count\n",
        "\n",
        "# Display the image with enhanced visibility of counts and bounding boxes\n",
        "display(image)\n"
      ]
    },
    {
      "cell_type": "code",
      "execution_count": null,
      "metadata": {
        "id": "r8GvQHiDni2t"
      },
      "outputs": [],
      "source": [
        "from IPython.display import display\n",
        "from PIL import Image, ImageDraw, ImageFont\n",
        "\n",
        "# Load the custom YOLOv5 model\n",
        "infer = YOLO(\"/content/runs/detect/train/weights/best.pt\")\n",
        "\n",
        "# Perform object detection on an image\n",
        "image_path = \"/content/friends.jpg\"\n",
        "results = infer.predict(image_path, save=False)  # Set save=False to avoid saving the image\n",
        "\n",
        "# Load the image\n",
        "image = Image.open(image_path)\n",
        "draw = ImageDraw.Draw(image)\n",
        "\n",
        "# Initialize counters\n",
        "male_count = 0\n",
        "female_count = 0\n",
        "total_count = 0\n",
        "\n",
        "# Font settings for displaying text\n",
        "font = ImageFont.load_default()  # Use default font\n",
        "font_color = (255, 255, 255)  # White font color\n",
        "\n",
        "# Iterate over the detections\n",
        "for det in results[0].boxes.data.tolist():\n",
        "    x1, y1, x2, y2, conf, cls = [int(i) for i in det]\n",
        "    class_id = int(cls)\n",
        "    class_name = infer.names[class_id]\n",
        "\n",
        "    # Increment the counters\n",
        "    if class_name == 'male':\n",
        "        male_count += 1\n",
        "        box_color = (255, 0, 0)  # Red for male\n",
        "    elif class_name == 'female':\n",
        "        female_count += 1\n",
        "        box_color = (0, 0, 255)  # Blue for female\n",
        "    total_count += 1\n",
        "\n",
        "    # Draw the bounding box with different colors for male and female\n",
        "    draw.rectangle([(x1, y1), (x2, y2)], outline=box_color, width=3)\n",
        "\n",
        "    # Display class name and confidence score on each bounding box\n",
        "    draw.text((x1, y1), f\"{class_name} ({conf:.2f})\", fill=font_color, font=font)\n",
        "\n",
        "# Draw the counts on the image with enhanced visibility\n",
        "draw.text((10, 10), f\"Male Count: {male_count}\", fill=(255, 0, 0), font=font)  # Red male count\n",
        "draw.text((10, 30), f\"Female Count: {female_count}\", fill=(0, 0, 255), font=font)  # Blue female count\n",
        "draw.text((10, 50), f\"Total Count: {total_count}\", fill=(0, 255, 0), font=font)  # Green total count\n",
        "\n",
        "# Display the image with enhanced visibility of counts and bounding boxes\n",
        "display(image)"
      ]
    },
    {
      "cell_type": "code",
      "execution_count": null,
      "metadata": {
        "id": "Htn_TvcTpW-e"
      },
      "outputs": [],
      "source": [
        "import cv2\n",
        "from IPython.display import display\n",
        "from PIL import Image, ImageDraw, ImageFont\n",
        "\n",
        "# Load the custom YOLOv5 model\n",
        "infer = YOLO(\"/content/runs/detect/train/weights/best.pt\")\n",
        "\n",
        "# Open the video file\n",
        "video_path = \"/content/f.mp4\"\n",
        "cap = cv2.VideoCapture(video_path)\n",
        "\n",
        "# Font settings for displaying text\n",
        "font = ImageFont.load_default()  # Use default font\n",
        "font_color = (255, 255, 255)  # White font color\n",
        "\n",
        "while True:\n",
        "    # Read a frame from the video\n",
        "    ret, frame = cap.read()\n",
        "    if not ret:\n",
        "        break\n",
        "\n",
        "    # Convert the frame to a PIL image\n",
        "    image = Image.fromarray(cv2.cvtColor(frame, cv2.COLOR_BGR2RGB))\n",
        "    draw = ImageDraw.Draw(image)\n",
        "\n",
        "    # Initialize counters\n",
        "    male_count = 0\n",
        "    female_count = 0\n",
        "    total_count = 0\n",
        "\n",
        "    # Perform object detection on the frame\n",
        "    results = infer.predict(image)\n",
        "\n",
        "    # Iterate over the detections\n",
        "    for det in results[0].boxes.data.tolist():\n",
        "        x1, y1, x2, y2, conf, cls = [int(i) for i in det]\n",
        "        class_id = int(cls)\n",
        "        class_name = infer.names[class_id]\n",
        "\n",
        "        # Increment the counters\n",
        "        if class_name == 'male':\n",
        "            male_count += 1\n",
        "            box_color = (255, 0, 0)  # Red for male\n",
        "        elif class_name == 'female':\n",
        "            female_count += 1\n",
        "            box_color = (0, 0, 255)  # Blue for female\n",
        "        total_count += 1\n",
        "\n",
        "        # Draw the bounding box with different colors for male and female\n",
        "        draw.rectangle([(x1, y1), (x2, y2)], outline=box_color, width=3)\n",
        "\n",
        "        # Display class name and confidence score on each bounding box\n",
        "        draw.text((x1, y1), f\"{class_name} ({conf:.2f})\", fill=font_color, font=font)\n",
        "\n",
        "    # Draw the counts on the image with enhanced visibility\n",
        "    draw.text((10, 10), f\"Male Count: {male_count}\", fill=(255, 0, 0), font=font)  # Red male count\n",
        "    draw.text((10, 30), f\"Female Count: {female_count}\", fill=(0, 0, 255), font=font)  # Blue female count\n",
        "    draw.text((10, 50), f\"Total Count: {total_count}\", fill=(0, 255, 0), font=font)  # Green total count\n",
        "\n",
        "    # Convert the PIL image back to a OpenCV frame and display it\n",
        "    frame = cv2.cvtColor(np.array(image), cv2.COLOR_RGB2BGR)\n",
        "    cv2.imshow(\"Object Detection\", frame)\n",
        "\n",
        "    # Press 'q' to exit the loop\n",
        "    if cv2.waitKey(1) & 0xFF == ord('q'):\n",
        "        break\n",
        "\n",
        "# Release the video capture and close the window\n",
        "cap.release()\n",
        "cv2.destroyAllWindows()"
      ]
    },
    {
      "cell_type": "code",
      "execution_count": null,
      "metadata": {
        "id": "oz-ooqfzp6qO"
      },
      "outputs": [],
      "source": [
        "import cv2\n",
        "import numpy as np\n",
        "from IPython.display import display\n",
        "from PIL import Image, ImageDraw, ImageFont\n",
        "\n",
        "# Load the custom YOLOv5 model\n",
        "infer = YOLO(\"/content/runs/detect/train/weights/best.pt\")\n",
        "\n",
        "# Open the video file\n",
        "video_path = \"/content/f.mp4\"\n",
        "cap = cv2.VideoCapture(video_path)\n",
        "\n",
        "# Font settings for displaying text\n",
        "font = ImageFont.load_default()  # Use default font\n",
        "font_color = (255, 255, 255)  # White font color\n",
        "\n",
        "while True:\n",
        "    # Read a frame from the video\n",
        "    ret, frame = cap.read()\n",
        "    if not ret:\n",
        "        break\n",
        "\n",
        "    # Convert the frame to a PIL image\n",
        "    image = Image.fromarray(cv2.cvtColor(frame, cv2.COLOR_BGR2RGB))\n",
        "    draw = ImageDraw.Draw(image)\n",
        "\n",
        "    # Initialize counters\n",
        "    male_count = 0\n",
        "    female_count = 0\n",
        "    total_count = 0\n",
        "\n",
        "    # Perform object detection on the frame\n",
        "    results = infer.predict(image)\n",
        "\n",
        "    # Iterate over the detections\n",
        "    for det in results[0].boxes.data.tolist():\n",
        "        x1, y1, x2, y2, conf, cls = [int(i) for i in det]\n",
        "        class_id = int(cls)\n",
        "        class_name = infer.names[class_id]\n",
        "\n",
        "        # Increment the counters\n",
        "        if class_name == 'male':\n",
        "            male_count += 1\n",
        "            box_color = (255, 0, 0)  # Red for male\n",
        "        elif class_name == 'female':\n",
        "            female_count += 1\n",
        "            box_color = (0, 0, 255)  # Blue for female\n",
        "        total_count += 1\n",
        "\n",
        "        # Draw the bounding box with different colors for male and female\n",
        "        draw.rectangle([(x1, y1), (x2, y2)], outline=box_color, width=3)\n",
        "\n",
        "        # Display class name and confidence score on each bounding box\n",
        "        draw.text((x1, y1), f\"{class_name} ({conf:.2f})\", fill=font_color, font=font)\n",
        "\n",
        "    # Draw the counts on the image with enhanced visibility\n",
        "    draw.text((10, 10), f\"Male Count: {male_count}\", fill=(255, 0, 0), font=font)  # Red male count\n",
        "    draw.text((10, 30), f\"Female Count: {female_count}\", fill=(0, 0, 255), font=font)  # Blue female count\n",
        "    draw.text((10, 50), f\"Total Count: {total_count}\", fill=(0, 255, 0), font=font)  # Green total count\n",
        "\n",
        "    # Convert the PIL image back to a OpenCV frame and display it\n",
        "    frame = cv2.cvtColor(np.array(image), cv2.COLOR_RGB2BGR)\n",
        "    cv2.imshow(\"Object Detection\", frame)\n",
        "\n",
        "    # Press 'q' to exit the loop\n",
        "    if cv2.waitKey(1) & 0xFF == ord('q'):\n",
        "        break\n",
        "\n",
        "# Release the video capture and close the window\n",
        "cap.release()\n",
        "cv2.destroyAllWindows()"
      ]
    },
    {
      "cell_type": "code",
      "execution_count": null,
      "metadata": {
        "id": "yxx-HrDeqbKv"
      },
      "outputs": [],
      "source": [
        "import cv2\n",
        "import numpy as np\n",
        "from IPython.display import display\n",
        "from PIL import Image, ImageDraw, ImageFont\n",
        "from google.colab.patches import cv2_imshow  # Use this instead of cv2.imshow()\n",
        "\n",
        "# Load the custom YOLOv5 model\n",
        "infer = YOLO(\"/content/runs/detect/train/weights/best.pt\")\n",
        "\n",
        "# Open the video file\n",
        "video_path = \"/content/f.mp4\"\n",
        "cap = cv2.VideoCapture(video_path)\n",
        "\n",
        "# Font settings for displaying text\n",
        "font = ImageFont.load_default()  # Use default font\n",
        "font_color = (255, 255, 255)  # White font color\n",
        "\n",
        "while True:\n",
        "    # Read a frame from the video\n",
        "    ret, frame = cap.read()\n",
        "    if not ret:\n",
        "        break\n",
        "\n",
        "    # Convert the frame to a PIL image\n",
        "    image = Image.fromarray(cv2.cvtColor(frame, cv2.COLOR_BGR2RGB))\n",
        "    draw = ImageDraw.Draw(image)\n",
        "\n",
        "    # Initialize counters\n",
        "    male_count = 0\n",
        "    female_count = 0\n",
        "    total_count = 0\n",
        "\n",
        "    # Perform object detection on the frame\n",
        "    results = infer.predict(image)\n",
        "\n",
        "    # Iterate over the detections\n",
        "    for det in results[0].boxes.data.tolist():\n",
        "        x1, y1, x2, y2, conf, cls = [int(i) for i in det]\n",
        "        class_id = int(cls)\n",
        "        class_name = infer.names[class_id]\n",
        "\n",
        "        # Increment the counters\n",
        "        if class_name == 'male':\n",
        "            male_count += 1\n",
        "            box_color = (255, 0, 0)  # Red for male\n",
        "        elif class_name == 'female':\n",
        "            female_count += 1\n",
        "            box_color = (0, 0, 255)  # Blue for female\n",
        "        total_count += 1\n",
        "\n",
        "        # Draw the bounding box with different colors for male and female\n",
        "        draw.rectangle([(x1, y1), (x2, y2)], outline=box_color, width=3)\n",
        "\n",
        "        # Display class name and confidence score on each bounding box\n",
        "        draw.text((x1, y1), f\"{class_name} ({conf:.2f})\", fill=font_color, font=font)\n",
        "\n",
        "    # Draw the counts on the image with enhanced visibility\n",
        "    draw.text((10, 10), f\"Male Count: {male_count}\", fill=(255, 0, 0), font=font)  # Red male count\n",
        "    draw.text((10, 30), f\"Female Count: {female_count}\", fill=(0, 0, 255), font=font)  # Blue female count\n",
        "    draw.text((10, 50), f\"Total Count: {total_count}\", fill=(0, 255, 0), font=font)  # Green total count\n",
        "\n",
        "    # Convert the PIL image back to a OpenCV frame and display it\n",
        "    frame = cv2.cvtColor(np.array(image), cv2.COLOR_RGB2BGR)\n",
        "    cv2_imshow(frame)  # Use cv2_imshow() with only one argument\n",
        "\n",
        "    # Press 'q' to exit the loop\n",
        "    if cv2.waitKey(1) & 0xFF == ord('q'):\n",
        "        break\n",
        "\n",
        "# Release the video capture and close the window\n",
        "cap.release()\n",
        "cv2.destroyAllWindows()"
      ]
    },
    {
      "cell_type": "code",
      "execution_count": null,
      "metadata": {
        "id": "Ow1QIl_7reSf"
      },
      "outputs": [],
      "source": [
        "import cv2\n",
        "import numpy as np\n",
        "from IPython.display import display\n",
        "from PIL import Image, ImageDraw, ImageFont\n",
        "from google.colab.patches import cv2_imshow  # Use this instead of cv2.imshow()\n",
        "\n",
        "# Load the custom YOLOv5 model\n",
        "infer = YOLO(\"/content/runs/detect/train/weights/best.pt\")\n",
        "\n",
        "# Open the video file\n",
        "video_path = \"/content/f.mp4\"\n",
        "cap = cv2.VideoCapture(video_path)\n",
        "\n",
        "# Get the video properties\n",
        "fps = cap.get(cv2.CAP_PROP_FPS)\n",
        "width = int(cap.get(cv2.CAP_PROP_FRAME_WIDTH))\n",
        "height = int(cap.get(cv2.CAP_PROP_FRAME_HEIGHT))\n",
        "\n",
        "# Create a video writer to save the processed video\n",
        "fourcc = cv2.VideoWriter_fourcc(*'mp4v')\n",
        "out = cv2.VideoWriter('detected_video.mp4', fourcc, fps, (width, height))\n",
        "\n",
        "# Font settings for displaying text\n",
        "font = ImageFont.load_default()  # Use default font\n",
        "font_color = (255, 255, 255)  # White font color\n",
        "\n",
        "while True:\n",
        "    # Read a frame from the video\n",
        "    ret, frame = cap.read()\n",
        "    if not ret:\n",
        "        break\n",
        "\n",
        "    # Convert the frame to a PIL image\n",
        "    image = Image.fromarray(cv2.cvtColor(frame, cv2.COLOR_BGR2RGB))\n",
        "    draw = ImageDraw.Draw(image)\n",
        "\n",
        "    # Initialize counters\n",
        "    male_count = 0\n",
        "    female_count = 0\n",
        "    total_count = 0\n",
        "\n",
        "    # Perform object detection on the frame\n",
        "    results = infer.predict(image)\n",
        "\n",
        "    # Iterate over the detections\n",
        "    for det in results[0].boxes.data.tolist():\n",
        "        x1, y1, x2, y2, conf, cls = [int(i) for i in det]\n",
        "        class_id = int(cls)\n",
        "        class_name = infer.names[class_id]\n",
        "\n",
        "        # Increment the counters\n",
        "        if class_name == 'male':\n",
        "            male_count += 1\n",
        "            box_color = (255, 0, 0)  # Red for male\n",
        "        elif class_name == 'female':\n",
        "            female_count += 1\n",
        "            box_color = (0, 0, 255)  # Blue for female\n",
        "        total_count += 1\n",
        "\n",
        "        # Draw the bounding box with different colors for male and female\n",
        "        draw.rectangle([(x1, y1), (x2, y2)], outline=box_color, width=3)\n",
        "\n",
        "        # Display class name and confidence score on each bounding box\n",
        "        draw.text((x1, y1), f\"{class_name} ({conf:.2f})\", fill=font_color, font=font)\n",
        "\n",
        "    # Draw the counts on the image with enhanced visibility\n",
        "    draw.text((10, 10), f\"Male Count: {male_count}\", fill=(255, 0, 0), font=font)  # Red male count\n",
        "    draw.text((10, 30), f\"Female Count: {female_count}\", fill=(0, 0, 255), font=font)  # Blue female count\n",
        "    draw.text((10, 50), f\"Total Count: {total_count}\", fill=(0, 255, 0), font=font)  # Green total count\n",
        "\n",
        "    # Convert the PIL image back to a OpenCV frame and save it to the video writer\n",
        "    frame = cv2.cvtColor(np.array(image), cv2.COLOR_RGB2BGR)\n",
        "    out.write(frame)\n",
        "\n",
        "    # Press 'q' to exit the loop\n",
        "    if cv2.waitKey(1) & 0xFF == ord('q'):\n",
        "        break\n",
        "\n",
        "# Release the video capture, video writer, and close the window\n",
        "cap.release()\n",
        "out.release()\n",
        "cv2.destroyAllWindows()"
      ]
    }
  ],
  "metadata": {
    "accelerator": "GPU",
    "colab": {
      "gpuType": "T4",
      "provenance": []
    },
    "kernelspec": {
      "display_name": "Python 3",
      "name": "python3"
    },
    "language_info": {
      "name": "python"
    }
  },
  "nbformat": 4,
  "nbformat_minor": 0
}